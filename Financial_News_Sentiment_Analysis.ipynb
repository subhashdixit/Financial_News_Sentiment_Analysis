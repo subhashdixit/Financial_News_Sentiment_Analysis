{
  "cells": [
    {
      "cell_type": "markdown",
      "metadata": {
        "id": "lC6R4QaV0Ci0"
      },
      "source": [
        "# **<center>Sentiment Analysis of Financial News Using NLTK and Classification model</center>**"
      ]
    },
    {
      "cell_type": "markdown",
      "metadata": {
        "id": "Iq7zwt8VJh1Z"
      },
      "source": [
        "## **Problem statment:**\n",
        "* We have to predict the sentiment of fiancial news using nltk"
      ]
    },
    {
      "cell_type": "markdown",
      "metadata": {
        "id": "Y6-xhkpm0MqU"
      },
      "source": [
        "## **About Dataset**\n",
        "* This dataset contains 3 csv file\n",
        "  * cnbc headline   (3080, 3)\n",
        "  * gaurdian headline   (17800, 2)\n",
        "  * reuters headline   (32770, 3)\n"
      ]
    },
    {
      "cell_type": "markdown",
      "metadata": {
        "id": "sZRF0xat134_"
      },
      "source": [
        "## **Columns Provided in the Dataset**\n",
        "\n",
        "* **cnbc headline**\n",
        "  1. time\n",
        "  2. headlines\n",
        "  3. Description\n",
        "\n",
        "* **gaurdian headline**\n",
        "  1. time\n",
        "  2. headline\n",
        "\n",
        "* **reuters headline**\n",
        "  1. time\n",
        "  2. headline\n",
        "  3. description\n"
      ]
    },
    {
      "cell_type": "markdown",
      "metadata": {
        "id": "5Q1HBH6RfLoZ"
      },
      "source": [
        "# What is NLTK ?\n",
        "\n",
        "The Natural Language Toolkit (NLTK) is a platform used for building Python programs that work with human language data for applying in statistical natural language processing (NLP).\n",
        "\n",
        "It contains text processing libraries for tokenization, parsing, classification, stemming, tagging and semantic reasoning.\n",
        "\n",
        "\n",
        "https://medium.com/@ODSC/intro-to-language-processing-with-the-nltk-59aa26b9d056\n",
        "\n",
        "\n",
        "\n",
        "# What is sentiment analysis ?\n",
        "\n",
        "Sentiment analysis is the process of detecting positive or negative sentiment in text. It’s often used by businesses to detect sentiment in social data, gauge brand reputation, and understand customers.\n",
        "\n",
        "\n",
        "\n",
        "https://monkeylearn.com/sentiment-analysis/"
      ]
    },
    {
      "cell_type": "code",
      "source": [
        "from google.colab import drive\n",
        "drive.mount('/content/drive')"
      ],
      "metadata": {
        "colab": {
          "base_uri": "https://localhost:8080/"
        },
        "id": "QvaM0B6kH7ql",
        "outputId": "3953d93b-7d85-4c5c-a2ff-ef43f7924eb8"
      },
      "execution_count": 1,
      "outputs": [
        {
          "output_type": "stream",
          "name": "stdout",
          "text": [
            "Drive already mounted at /content/drive; to attempt to forcibly remount, call drive.mount(\"/content/drive\", force_remount=True).\n"
          ]
        }
      ]
    },
    {
      "cell_type": "code",
      "execution_count": 2,
      "metadata": {
        "colab": {
          "base_uri": "https://localhost:8080/"
        },
        "id": "pE3JktaFgX_s",
        "outputId": "754d6b0c-bade-4140-f8e0-bfbaae381287"
      },
      "outputs": [
        {
          "output_type": "stream",
          "name": "stdout",
          "text": [
            "Looking in indexes: https://pypi.org/simple, https://us-python.pkg.dev/colab-wheels/public/simple/\n",
            "Requirement already satisfied: emoji in /usr/local/lib/python3.8/dist-packages (2.2.0)\n"
          ]
        },
        {
          "output_type": "stream",
          "name": "stderr",
          "text": [
            "[nltk_data] Downloading collection 'all'\n",
            "[nltk_data]    | \n",
            "[nltk_data]    | Downloading package abc to /root/nltk_data...\n",
            "[nltk_data]    |   Package abc is already up-to-date!\n",
            "[nltk_data]    | Downloading package alpino to /root/nltk_data...\n",
            "[nltk_data]    |   Package alpino is already up-to-date!\n",
            "[nltk_data]    | Downloading package averaged_perceptron_tagger to\n",
            "[nltk_data]    |     /root/nltk_data...\n",
            "[nltk_data]    |   Package averaged_perceptron_tagger is already up-\n",
            "[nltk_data]    |       to-date!\n",
            "[nltk_data]    | Downloading package averaged_perceptron_tagger_ru to\n",
            "[nltk_data]    |     /root/nltk_data...\n",
            "[nltk_data]    |   Package averaged_perceptron_tagger_ru is already\n",
            "[nltk_data]    |       up-to-date!\n",
            "[nltk_data]    | Downloading package basque_grammars to\n",
            "[nltk_data]    |     /root/nltk_data...\n",
            "[nltk_data]    |   Package basque_grammars is already up-to-date!\n",
            "[nltk_data]    | Downloading package bcp47 to /root/nltk_data...\n",
            "[nltk_data]    |   Package bcp47 is already up-to-date!\n",
            "[nltk_data]    | Downloading package biocreative_ppi to\n",
            "[nltk_data]    |     /root/nltk_data...\n",
            "[nltk_data]    |   Package biocreative_ppi is already up-to-date!\n",
            "[nltk_data]    | Downloading package bllip_wsj_no_aux to\n",
            "[nltk_data]    |     /root/nltk_data...\n",
            "[nltk_data]    |   Package bllip_wsj_no_aux is already up-to-date!\n",
            "[nltk_data]    | Downloading package book_grammars to\n",
            "[nltk_data]    |     /root/nltk_data...\n",
            "[nltk_data]    |   Package book_grammars is already up-to-date!\n",
            "[nltk_data]    | Downloading package brown to /root/nltk_data...\n",
            "[nltk_data]    |   Package brown is already up-to-date!\n",
            "[nltk_data]    | Downloading package brown_tei to /root/nltk_data...\n",
            "[nltk_data]    |   Package brown_tei is already up-to-date!\n",
            "[nltk_data]    | Downloading package cess_cat to /root/nltk_data...\n",
            "[nltk_data]    |   Package cess_cat is already up-to-date!\n",
            "[nltk_data]    | Downloading package cess_esp to /root/nltk_data...\n",
            "[nltk_data]    |   Package cess_esp is already up-to-date!\n",
            "[nltk_data]    | Downloading package chat80 to /root/nltk_data...\n",
            "[nltk_data]    |   Package chat80 is already up-to-date!\n",
            "[nltk_data]    | Downloading package city_database to\n",
            "[nltk_data]    |     /root/nltk_data...\n",
            "[nltk_data]    |   Package city_database is already up-to-date!\n",
            "[nltk_data]    | Downloading package cmudict to /root/nltk_data...\n",
            "[nltk_data]    |   Package cmudict is already up-to-date!\n",
            "[nltk_data]    | Downloading package comparative_sentences to\n",
            "[nltk_data]    |     /root/nltk_data...\n",
            "[nltk_data]    |   Package comparative_sentences is already up-to-\n",
            "[nltk_data]    |       date!\n",
            "[nltk_data]    | Downloading package comtrans to /root/nltk_data...\n",
            "[nltk_data]    |   Package comtrans is already up-to-date!\n",
            "[nltk_data]    | Downloading package conll2000 to /root/nltk_data...\n",
            "[nltk_data]    |   Package conll2000 is already up-to-date!\n",
            "[nltk_data]    | Downloading package conll2002 to /root/nltk_data...\n",
            "[nltk_data]    |   Package conll2002 is already up-to-date!\n",
            "[nltk_data]    | Downloading package conll2007 to /root/nltk_data...\n",
            "[nltk_data]    |   Package conll2007 is already up-to-date!\n",
            "[nltk_data]    | Downloading package crubadan to /root/nltk_data...\n",
            "[nltk_data]    |   Package crubadan is already up-to-date!\n",
            "[nltk_data]    | Downloading package dependency_treebank to\n",
            "[nltk_data]    |     /root/nltk_data...\n",
            "[nltk_data]    |   Package dependency_treebank is already up-to-date!\n",
            "[nltk_data]    | Downloading package dolch to /root/nltk_data...\n",
            "[nltk_data]    |   Package dolch is already up-to-date!\n",
            "[nltk_data]    | Downloading package europarl_raw to\n",
            "[nltk_data]    |     /root/nltk_data...\n",
            "[nltk_data]    |   Package europarl_raw is already up-to-date!\n",
            "[nltk_data]    | Downloading package extended_omw to\n",
            "[nltk_data]    |     /root/nltk_data...\n",
            "[nltk_data]    |   Package extended_omw is already up-to-date!\n",
            "[nltk_data]    | Downloading package floresta to /root/nltk_data...\n",
            "[nltk_data]    |   Package floresta is already up-to-date!\n",
            "[nltk_data]    | Downloading package framenet_v15 to\n",
            "[nltk_data]    |     /root/nltk_data...\n",
            "[nltk_data]    |   Package framenet_v15 is already up-to-date!\n",
            "[nltk_data]    | Downloading package framenet_v17 to\n",
            "[nltk_data]    |     /root/nltk_data...\n",
            "[nltk_data]    |   Package framenet_v17 is already up-to-date!\n",
            "[nltk_data]    | Downloading package gazetteers to /root/nltk_data...\n",
            "[nltk_data]    |   Package gazetteers is already up-to-date!\n",
            "[nltk_data]    | Downloading package genesis to /root/nltk_data...\n",
            "[nltk_data]    |   Package genesis is already up-to-date!\n",
            "[nltk_data]    | Downloading package gutenberg to /root/nltk_data...\n",
            "[nltk_data]    |   Package gutenberg is already up-to-date!\n",
            "[nltk_data]    | Downloading package ieer to /root/nltk_data...\n",
            "[nltk_data]    |   Package ieer is already up-to-date!\n",
            "[nltk_data]    | Downloading package inaugural to /root/nltk_data...\n",
            "[nltk_data]    |   Package inaugural is already up-to-date!\n",
            "[nltk_data]    | Downloading package indian to /root/nltk_data...\n",
            "[nltk_data]    |   Package indian is already up-to-date!\n",
            "[nltk_data]    | Downloading package jeita to /root/nltk_data...\n",
            "[nltk_data]    |   Package jeita is already up-to-date!\n",
            "[nltk_data]    | Downloading package kimmo to /root/nltk_data...\n",
            "[nltk_data]    |   Package kimmo is already up-to-date!\n",
            "[nltk_data]    | Downloading package knbc to /root/nltk_data...\n",
            "[nltk_data]    |   Package knbc is already up-to-date!\n",
            "[nltk_data]    | Downloading package large_grammars to\n",
            "[nltk_data]    |     /root/nltk_data...\n",
            "[nltk_data]    |   Package large_grammars is already up-to-date!\n",
            "[nltk_data]    | Downloading package lin_thesaurus to\n",
            "[nltk_data]    |     /root/nltk_data...\n",
            "[nltk_data]    |   Package lin_thesaurus is already up-to-date!\n",
            "[nltk_data]    | Downloading package mac_morpho to /root/nltk_data...\n",
            "[nltk_data]    |   Package mac_morpho is already up-to-date!\n",
            "[nltk_data]    | Downloading package machado to /root/nltk_data...\n",
            "[nltk_data]    |   Package machado is already up-to-date!\n",
            "[nltk_data]    | Downloading package masc_tagged to /root/nltk_data...\n",
            "[nltk_data]    |   Package masc_tagged is already up-to-date!\n",
            "[nltk_data]    | Downloading package maxent_ne_chunker to\n",
            "[nltk_data]    |     /root/nltk_data...\n",
            "[nltk_data]    |   Package maxent_ne_chunker is already up-to-date!\n",
            "[nltk_data]    | Downloading package maxent_treebank_pos_tagger to\n",
            "[nltk_data]    |     /root/nltk_data...\n",
            "[nltk_data]    |   Package maxent_treebank_pos_tagger is already up-\n",
            "[nltk_data]    |       to-date!\n",
            "[nltk_data]    | Downloading package moses_sample to\n",
            "[nltk_data]    |     /root/nltk_data...\n",
            "[nltk_data]    |   Package moses_sample is already up-to-date!\n",
            "[nltk_data]    | Downloading package movie_reviews to\n",
            "[nltk_data]    |     /root/nltk_data...\n",
            "[nltk_data]    |   Package movie_reviews is already up-to-date!\n",
            "[nltk_data]    | Downloading package mte_teip5 to /root/nltk_data...\n",
            "[nltk_data]    |   Package mte_teip5 is already up-to-date!\n",
            "[nltk_data]    | Downloading package mwa_ppdb to /root/nltk_data...\n",
            "[nltk_data]    |   Package mwa_ppdb is already up-to-date!\n",
            "[nltk_data]    | Downloading package names to /root/nltk_data...\n",
            "[nltk_data]    |   Package names is already up-to-date!\n",
            "[nltk_data]    | Downloading package nombank.1.0 to /root/nltk_data...\n",
            "[nltk_data]    |   Package nombank.1.0 is already up-to-date!\n",
            "[nltk_data]    | Downloading package nonbreaking_prefixes to\n",
            "[nltk_data]    |     /root/nltk_data...\n",
            "[nltk_data]    |   Package nonbreaking_prefixes is already up-to-date!\n",
            "[nltk_data]    | Downloading package nps_chat to /root/nltk_data...\n",
            "[nltk_data]    |   Package nps_chat is already up-to-date!\n",
            "[nltk_data]    | Downloading package omw to /root/nltk_data...\n",
            "[nltk_data]    |   Package omw is already up-to-date!\n",
            "[nltk_data]    | Downloading package omw-1.4 to /root/nltk_data...\n",
            "[nltk_data]    |   Package omw-1.4 is already up-to-date!\n",
            "[nltk_data]    | Downloading package opinion_lexicon to\n",
            "[nltk_data]    |     /root/nltk_data...\n",
            "[nltk_data]    |   Package opinion_lexicon is already up-to-date!\n",
            "[nltk_data]    | Downloading package panlex_swadesh to\n",
            "[nltk_data]    |     /root/nltk_data...\n",
            "[nltk_data]    |   Package panlex_swadesh is already up-to-date!\n",
            "[nltk_data]    | Downloading package paradigms to /root/nltk_data...\n",
            "[nltk_data]    |   Package paradigms is already up-to-date!\n",
            "[nltk_data]    | Downloading package pe08 to /root/nltk_data...\n",
            "[nltk_data]    |   Package pe08 is already up-to-date!\n",
            "[nltk_data]    | Downloading package perluniprops to\n",
            "[nltk_data]    |     /root/nltk_data...\n",
            "[nltk_data]    |   Package perluniprops is already up-to-date!\n",
            "[nltk_data]    | Downloading package pil to /root/nltk_data...\n",
            "[nltk_data]    |   Package pil is already up-to-date!\n",
            "[nltk_data]    | Downloading package pl196x to /root/nltk_data...\n",
            "[nltk_data]    |   Package pl196x is already up-to-date!\n",
            "[nltk_data]    | Downloading package porter_test to /root/nltk_data...\n",
            "[nltk_data]    |   Package porter_test is already up-to-date!\n",
            "[nltk_data]    | Downloading package ppattach to /root/nltk_data...\n",
            "[nltk_data]    |   Package ppattach is already up-to-date!\n",
            "[nltk_data]    | Downloading package problem_reports to\n",
            "[nltk_data]    |     /root/nltk_data...\n",
            "[nltk_data]    |   Package problem_reports is already up-to-date!\n",
            "[nltk_data]    | Downloading package product_reviews_1 to\n",
            "[nltk_data]    |     /root/nltk_data...\n",
            "[nltk_data]    |   Package product_reviews_1 is already up-to-date!\n",
            "[nltk_data]    | Downloading package product_reviews_2 to\n",
            "[nltk_data]    |     /root/nltk_data...\n",
            "[nltk_data]    |   Package product_reviews_2 is already up-to-date!\n",
            "[nltk_data]    | Downloading package propbank to /root/nltk_data...\n",
            "[nltk_data]    |   Package propbank is already up-to-date!\n",
            "[nltk_data]    | Downloading package pros_cons to /root/nltk_data...\n",
            "[nltk_data]    |   Package pros_cons is already up-to-date!\n",
            "[nltk_data]    | Downloading package ptb to /root/nltk_data...\n",
            "[nltk_data]    |   Package ptb is already up-to-date!\n",
            "[nltk_data]    | Downloading package punkt to /root/nltk_data...\n",
            "[nltk_data]    |   Package punkt is already up-to-date!\n",
            "[nltk_data]    | Downloading package qc to /root/nltk_data...\n",
            "[nltk_data]    |   Package qc is already up-to-date!\n",
            "[nltk_data]    | Downloading package reuters to /root/nltk_data...\n",
            "[nltk_data]    |   Package reuters is already up-to-date!\n",
            "[nltk_data]    | Downloading package rslp to /root/nltk_data...\n",
            "[nltk_data]    |   Package rslp is already up-to-date!\n",
            "[nltk_data]    | Downloading package rte to /root/nltk_data...\n",
            "[nltk_data]    |   Package rte is already up-to-date!\n",
            "[nltk_data]    | Downloading package sample_grammars to\n",
            "[nltk_data]    |     /root/nltk_data...\n",
            "[nltk_data]    |   Package sample_grammars is already up-to-date!\n",
            "[nltk_data]    | Downloading package semcor to /root/nltk_data...\n",
            "[nltk_data]    |   Package semcor is already up-to-date!\n",
            "[nltk_data]    | Downloading package senseval to /root/nltk_data...\n",
            "[nltk_data]    |   Package senseval is already up-to-date!\n",
            "[nltk_data]    | Downloading package sentence_polarity to\n",
            "[nltk_data]    |     /root/nltk_data...\n",
            "[nltk_data]    |   Package sentence_polarity is already up-to-date!\n",
            "[nltk_data]    | Downloading package sentiwordnet to\n",
            "[nltk_data]    |     /root/nltk_data...\n",
            "[nltk_data]    |   Package sentiwordnet is already up-to-date!\n",
            "[nltk_data]    | Downloading package shakespeare to /root/nltk_data...\n",
            "[nltk_data]    |   Package shakespeare is already up-to-date!\n",
            "[nltk_data]    | Downloading package sinica_treebank to\n",
            "[nltk_data]    |     /root/nltk_data...\n",
            "[nltk_data]    |   Package sinica_treebank is already up-to-date!\n",
            "[nltk_data]    | Downloading package smultron to /root/nltk_data...\n",
            "[nltk_data]    |   Package smultron is already up-to-date!\n",
            "[nltk_data]    | Downloading package snowball_data to\n",
            "[nltk_data]    |     /root/nltk_data...\n",
            "[nltk_data]    |   Package snowball_data is already up-to-date!\n",
            "[nltk_data]    | Downloading package spanish_grammars to\n",
            "[nltk_data]    |     /root/nltk_data...\n",
            "[nltk_data]    |   Package spanish_grammars is already up-to-date!\n",
            "[nltk_data]    | Downloading package state_union to /root/nltk_data...\n",
            "[nltk_data]    |   Package state_union is already up-to-date!\n",
            "[nltk_data]    | Downloading package stopwords to /root/nltk_data...\n",
            "[nltk_data]    |   Package stopwords is already up-to-date!\n",
            "[nltk_data]    | Downloading package subjectivity to\n",
            "[nltk_data]    |     /root/nltk_data...\n",
            "[nltk_data]    |   Package subjectivity is already up-to-date!\n",
            "[nltk_data]    | Downloading package swadesh to /root/nltk_data...\n",
            "[nltk_data]    |   Package swadesh is already up-to-date!\n",
            "[nltk_data]    | Downloading package switchboard to /root/nltk_data...\n",
            "[nltk_data]    |   Package switchboard is already up-to-date!\n",
            "[nltk_data]    | Downloading package tagsets to /root/nltk_data...\n",
            "[nltk_data]    |   Package tagsets is already up-to-date!\n",
            "[nltk_data]    | Downloading package timit to /root/nltk_data...\n",
            "[nltk_data]    |   Package timit is already up-to-date!\n",
            "[nltk_data]    | Downloading package toolbox to /root/nltk_data...\n",
            "[nltk_data]    |   Package toolbox is already up-to-date!\n",
            "[nltk_data]    | Downloading package treebank to /root/nltk_data...\n",
            "[nltk_data]    |   Package treebank is already up-to-date!\n",
            "[nltk_data]    | Downloading package twitter_samples to\n",
            "[nltk_data]    |     /root/nltk_data...\n",
            "[nltk_data]    |   Package twitter_samples is already up-to-date!\n",
            "[nltk_data]    | Downloading package udhr to /root/nltk_data...\n",
            "[nltk_data]    |   Package udhr is already up-to-date!\n",
            "[nltk_data]    | Downloading package udhr2 to /root/nltk_data...\n",
            "[nltk_data]    |   Package udhr2 is already up-to-date!\n",
            "[nltk_data]    | Downloading package unicode_samples to\n",
            "[nltk_data]    |     /root/nltk_data...\n",
            "[nltk_data]    |   Package unicode_samples is already up-to-date!\n",
            "[nltk_data]    | Downloading package universal_tagset to\n",
            "[nltk_data]    |     /root/nltk_data...\n",
            "[nltk_data]    |   Package universal_tagset is already up-to-date!\n",
            "[nltk_data]    | Downloading package universal_treebanks_v20 to\n",
            "[nltk_data]    |     /root/nltk_data...\n",
            "[nltk_data]    |   Package universal_treebanks_v20 is already up-to-\n",
            "[nltk_data]    |       date!\n",
            "[nltk_data]    | Downloading package vader_lexicon to\n",
            "[nltk_data]    |     /root/nltk_data...\n",
            "[nltk_data]    |   Package vader_lexicon is already up-to-date!\n",
            "[nltk_data]    | Downloading package verbnet to /root/nltk_data...\n",
            "[nltk_data]    |   Package verbnet is already up-to-date!\n",
            "[nltk_data]    | Downloading package verbnet3 to /root/nltk_data...\n",
            "[nltk_data]    |   Package verbnet3 is already up-to-date!\n",
            "[nltk_data]    | Downloading package webtext to /root/nltk_data...\n",
            "[nltk_data]    |   Package webtext is already up-to-date!\n",
            "[nltk_data]    | Downloading package wmt15_eval to /root/nltk_data...\n",
            "[nltk_data]    |   Package wmt15_eval is already up-to-date!\n",
            "[nltk_data]    | Downloading package word2vec_sample to\n",
            "[nltk_data]    |     /root/nltk_data...\n",
            "[nltk_data]    |   Package word2vec_sample is already up-to-date!\n",
            "[nltk_data]    | Downloading package wordnet to /root/nltk_data...\n",
            "[nltk_data]    |   Package wordnet is already up-to-date!\n",
            "[nltk_data]    | Downloading package wordnet2021 to /root/nltk_data...\n",
            "[nltk_data]    |   Package wordnet2021 is already up-to-date!\n",
            "[nltk_data]    | Downloading package wordnet31 to /root/nltk_data...\n",
            "[nltk_data]    |   Package wordnet31 is already up-to-date!\n",
            "[nltk_data]    | Downloading package wordnet_ic to /root/nltk_data...\n",
            "[nltk_data]    |   Package wordnet_ic is already up-to-date!\n",
            "[nltk_data]    | Downloading package words to /root/nltk_data...\n",
            "[nltk_data]    |   Package words is already up-to-date!\n",
            "[nltk_data]    | Downloading package ycoe to /root/nltk_data...\n",
            "[nltk_data]    |   Package ycoe is already up-to-date!\n",
            "[nltk_data]    | \n",
            "[nltk_data]  Done downloading collection all\n",
            "[nltk_data] Downloading package punkt to /root/nltk_data...\n",
            "[nltk_data]   Package punkt is already up-to-date!\n",
            "[nltk_data] Downloading package stopwords to /root/nltk_data...\n",
            "[nltk_data]   Package stopwords is already up-to-date!\n"
          ]
        }
      ],
      "source": [
        "# Import all the required libraries \n",
        "import re\n",
        "import pandas as pd\n",
        "import numpy as np\n",
        "import os\n",
        "import datetime as dt\n",
        "from matplotlib import pyplot as plt\n",
        "%matplotlib inline\n",
        "import seaborn as sns\n",
        "from collections import Counter\n",
        "import string\n",
        "!pip install emoji\n",
        "import emoji\n",
        "pd.set_option('display.max_rows',500)\n",
        "import warnings\n",
        "warnings.filterwarnings(\"ignore\")\n",
        "#import stopwords and text processing libraries\n",
        "from collections import Counter\n",
        "import string\n",
        "import unicodedata\n",
        "import nltk\n",
        "nltk.download('all')\n",
        "nltk.download('punkt')\n",
        "nltk.download('stopwords')\n",
        "from nltk.tokenize import word_tokenize\n",
        "from nltk.corpus import stopwords\n",
        "from sklearn.feature_extraction.text import  TfidfVectorizer \n",
        "from sklearn.decomposition import NMF\n",
        "from nltk.stem.porter import *\n",
        "from nltk.stem.wordnet import WordNetLemmatizer"
      ]
    },
    {
      "cell_type": "code",
      "execution_count": 3,
      "metadata": {
        "id": "B1qtW2W7gX67"
      },
      "outputs": [],
      "source": [
        "#import machine learning libraries\n",
        "from sklearn.model_selection import train_test_split\n",
        "from sklearn.feature_extraction.text import TfidfVectorizer\n",
        "from sklearn.svm import LinearSVC\n",
        "from sklearn.pipeline import make_pipeline\n",
        "from sklearn.datasets import make_classification\n",
        "from sklearn.metrics import accuracy_score\n",
        "from sklearn.metrics import confusion_matrix, ConfusionMatrixDisplay\n",
        "from sklearn.metrics import classification_report\n",
        "from sklearn.feature_extraction.text import CountVectorizer\n",
        "from sklearn.feature_extraction.text import TfidfTransformer\n",
        "from sklearn.linear_model import LogisticRegression\n",
        "from sklearn.naive_bayes import MultinomialNB\n",
        "from sklearn.naive_bayes import BernoulliNB\n",
        "from sklearn.ensemble import GradientBoostingClassifier\n",
        "import xgboost as xg\n",
        "from sklearn.tree import DecisionTreeClassifier\n",
        "from sklearn.neighbors import KNeighborsClassifier"
      ]
    },
    {
      "cell_type": "markdown",
      "metadata": {
        "id": "ijgTOXVu4QvL"
      },
      "source": [
        "# **Basic EDA on cnbc_headlines dataset**"
      ]
    },
    {
      "cell_type": "markdown",
      "source": [
        "**Read csv file of cnbc headlines using pandas**"
      ],
      "metadata": {
        "id": "p0MuB8cPHdv7"
      }
    },
    {
      "cell_type": "code",
      "execution_count": 4,
      "metadata": {
        "id": "EkHTI2fsgX1x",
        "colab": {
          "base_uri": "https://localhost:8080/",
          "height": 206
        },
        "outputId": "c816dc9a-26d9-4bb6-8883-5db34f908e33"
      },
      "outputs": [
        {
          "output_type": "execute_result",
          "data": {
            "text/plain": [
              "                                           Headlines  \\\n",
              "0  Jim Cramer: A better way to invest in the Covi...   \n",
              "1     Cramer's lightning round: I would own Teradyne   \n",
              "2                                                NaN   \n",
              "3  Cramer's week ahead: Big week for earnings, ev...   \n",
              "4  IQ Capital CEO Keith Bliss says tech and healt...   \n",
              "\n",
              "                             Time  \\\n",
              "0   7:51  PM ET Fri, 17 July 2020   \n",
              "1   7:33  PM ET Fri, 17 July 2020   \n",
              "2                             NaN   \n",
              "3   7:25  PM ET Fri, 17 July 2020   \n",
              "4   4:24  PM ET Fri, 17 July 2020   \n",
              "\n",
              "                                         Description  \n",
              "0  \"Mad Money\" host Jim Cramer recommended buying...  \n",
              "1  \"Mad Money\" host Jim Cramer rings the lightnin...  \n",
              "2                                                NaN  \n",
              "3  \"We'll pay more for the earnings of the non-Co...  \n",
              "4  Keith Bliss, IQ Capital CEO, joins \"Closing Be...  "
            ],
            "text/html": [
              "\n",
              "  <div id=\"df-9f1c07db-81ef-46ad-a41e-0266f88eb628\">\n",
              "    <div class=\"colab-df-container\">\n",
              "      <div>\n",
              "<style scoped>\n",
              "    .dataframe tbody tr th:only-of-type {\n",
              "        vertical-align: middle;\n",
              "    }\n",
              "\n",
              "    .dataframe tbody tr th {\n",
              "        vertical-align: top;\n",
              "    }\n",
              "\n",
              "    .dataframe thead th {\n",
              "        text-align: right;\n",
              "    }\n",
              "</style>\n",
              "<table border=\"1\" class=\"dataframe\">\n",
              "  <thead>\n",
              "    <tr style=\"text-align: right;\">\n",
              "      <th></th>\n",
              "      <th>Headlines</th>\n",
              "      <th>Time</th>\n",
              "      <th>Description</th>\n",
              "    </tr>\n",
              "  </thead>\n",
              "  <tbody>\n",
              "    <tr>\n",
              "      <th>0</th>\n",
              "      <td>Jim Cramer: A better way to invest in the Covi...</td>\n",
              "      <td>7:51  PM ET Fri, 17 July 2020</td>\n",
              "      <td>\"Mad Money\" host Jim Cramer recommended buying...</td>\n",
              "    </tr>\n",
              "    <tr>\n",
              "      <th>1</th>\n",
              "      <td>Cramer's lightning round: I would own Teradyne</td>\n",
              "      <td>7:33  PM ET Fri, 17 July 2020</td>\n",
              "      <td>\"Mad Money\" host Jim Cramer rings the lightnin...</td>\n",
              "    </tr>\n",
              "    <tr>\n",
              "      <th>2</th>\n",
              "      <td>NaN</td>\n",
              "      <td>NaN</td>\n",
              "      <td>NaN</td>\n",
              "    </tr>\n",
              "    <tr>\n",
              "      <th>3</th>\n",
              "      <td>Cramer's week ahead: Big week for earnings, ev...</td>\n",
              "      <td>7:25  PM ET Fri, 17 July 2020</td>\n",
              "      <td>\"We'll pay more for the earnings of the non-Co...</td>\n",
              "    </tr>\n",
              "    <tr>\n",
              "      <th>4</th>\n",
              "      <td>IQ Capital CEO Keith Bliss says tech and healt...</td>\n",
              "      <td>4:24  PM ET Fri, 17 July 2020</td>\n",
              "      <td>Keith Bliss, IQ Capital CEO, joins \"Closing Be...</td>\n",
              "    </tr>\n",
              "  </tbody>\n",
              "</table>\n",
              "</div>\n",
              "      <button class=\"colab-df-convert\" onclick=\"convertToInteractive('df-9f1c07db-81ef-46ad-a41e-0266f88eb628')\"\n",
              "              title=\"Convert this dataframe to an interactive table.\"\n",
              "              style=\"display:none;\">\n",
              "        \n",
              "  <svg xmlns=\"http://www.w3.org/2000/svg\" height=\"24px\"viewBox=\"0 0 24 24\"\n",
              "       width=\"24px\">\n",
              "    <path d=\"M0 0h24v24H0V0z\" fill=\"none\"/>\n",
              "    <path d=\"M18.56 5.44l.94 2.06.94-2.06 2.06-.94-2.06-.94-.94-2.06-.94 2.06-2.06.94zm-11 1L8.5 8.5l.94-2.06 2.06-.94-2.06-.94L8.5 2.5l-.94 2.06-2.06.94zm10 10l.94 2.06.94-2.06 2.06-.94-2.06-.94-.94-2.06-.94 2.06-2.06.94z\"/><path d=\"M17.41 7.96l-1.37-1.37c-.4-.4-.92-.59-1.43-.59-.52 0-1.04.2-1.43.59L10.3 9.45l-7.72 7.72c-.78.78-.78 2.05 0 2.83L4 21.41c.39.39.9.59 1.41.59.51 0 1.02-.2 1.41-.59l7.78-7.78 2.81-2.81c.8-.78.8-2.07 0-2.86zM5.41 20L4 18.59l7.72-7.72 1.47 1.35L5.41 20z\"/>\n",
              "  </svg>\n",
              "      </button>\n",
              "      \n",
              "  <style>\n",
              "    .colab-df-container {\n",
              "      display:flex;\n",
              "      flex-wrap:wrap;\n",
              "      gap: 12px;\n",
              "    }\n",
              "\n",
              "    .colab-df-convert {\n",
              "      background-color: #E8F0FE;\n",
              "      border: none;\n",
              "      border-radius: 50%;\n",
              "      cursor: pointer;\n",
              "      display: none;\n",
              "      fill: #1967D2;\n",
              "      height: 32px;\n",
              "      padding: 0 0 0 0;\n",
              "      width: 32px;\n",
              "    }\n",
              "\n",
              "    .colab-df-convert:hover {\n",
              "      background-color: #E2EBFA;\n",
              "      box-shadow: 0px 1px 2px rgba(60, 64, 67, 0.3), 0px 1px 3px 1px rgba(60, 64, 67, 0.15);\n",
              "      fill: #174EA6;\n",
              "    }\n",
              "\n",
              "    [theme=dark] .colab-df-convert {\n",
              "      background-color: #3B4455;\n",
              "      fill: #D2E3FC;\n",
              "    }\n",
              "\n",
              "    [theme=dark] .colab-df-convert:hover {\n",
              "      background-color: #434B5C;\n",
              "      box-shadow: 0px 1px 3px 1px rgba(0, 0, 0, 0.15);\n",
              "      filter: drop-shadow(0px 1px 2px rgba(0, 0, 0, 0.3));\n",
              "      fill: #FFFFFF;\n",
              "    }\n",
              "  </style>\n",
              "\n",
              "      <script>\n",
              "        const buttonEl =\n",
              "          document.querySelector('#df-9f1c07db-81ef-46ad-a41e-0266f88eb628 button.colab-df-convert');\n",
              "        buttonEl.style.display =\n",
              "          google.colab.kernel.accessAllowed ? 'block' : 'none';\n",
              "\n",
              "        async function convertToInteractive(key) {\n",
              "          const element = document.querySelector('#df-9f1c07db-81ef-46ad-a41e-0266f88eb628');\n",
              "          const dataTable =\n",
              "            await google.colab.kernel.invokeFunction('convertToInteractive',\n",
              "                                                     [key], {});\n",
              "          if (!dataTable) return;\n",
              "\n",
              "          const docLinkHtml = 'Like what you see? Visit the ' +\n",
              "            '<a target=\"_blank\" href=https://colab.research.google.com/notebooks/data_table.ipynb>data table notebook</a>'\n",
              "            + ' to learn more about interactive tables.';\n",
              "          element.innerHTML = '';\n",
              "          dataTable['output_type'] = 'display_data';\n",
              "          await google.colab.output.renderOutput(dataTable, element);\n",
              "          const docLink = document.createElement('div');\n",
              "          docLink.innerHTML = docLinkHtml;\n",
              "          element.appendChild(docLink);\n",
              "        }\n",
              "      </script>\n",
              "    </div>\n",
              "  </div>\n",
              "  "
            ]
          },
          "metadata": {},
          "execution_count": 4
        }
      ],
      "source": [
        "df_cnbc = pd.read_csv('/content/drive/MyDrive/Projects/Sentiment Analysis of Financial News/cnbc_headlines.csv')\n",
        "df_cnbc.head()"
      ]
    },
    {
      "cell_type": "markdown",
      "source": [
        "**Check the shape of cnbc headline dataset**"
      ],
      "metadata": {
        "id": "zvCmkgg4Hic8"
      }
    },
    {
      "cell_type": "code",
      "execution_count": 5,
      "metadata": {
        "colab": {
          "base_uri": "https://localhost:8080/"
        },
        "id": "7MY607w2gXxS",
        "outputId": "197fe526-83a6-4e36-c348-5440c6e85164"
      },
      "outputs": [
        {
          "output_type": "execute_result",
          "data": {
            "text/plain": [
              "(3080, 3)"
            ]
          },
          "metadata": {},
          "execution_count": 5
        }
      ],
      "source": [
        "df_cnbc.shape"
      ]
    },
    {
      "cell_type": "markdown",
      "source": [
        "**Check all the columns in the cnbc headline dataset**"
      ],
      "metadata": {
        "id": "LIBfAsmlHnDm"
      }
    },
    {
      "cell_type": "code",
      "execution_count": 6,
      "metadata": {
        "colab": {
          "base_uri": "https://localhost:8080/"
        },
        "id": "fGyvfk-ZgXwN",
        "outputId": "ed9381bd-98c3-4396-c1de-a8408683ee1b"
      },
      "outputs": [
        {
          "output_type": "execute_result",
          "data": {
            "text/plain": [
              "Index(['Headlines', 'Time', 'Description'], dtype='object')"
            ]
          },
          "metadata": {},
          "execution_count": 6
        }
      ],
      "source": [
        "df_cnbc.columns"
      ]
    },
    {
      "cell_type": "markdown",
      "source": [
        "**Check which columns are having categorical, numerical or boolean values**"
      ],
      "metadata": {
        "id": "chGwD_4qHs5-"
      }
    },
    {
      "cell_type": "code",
      "execution_count": 7,
      "metadata": {
        "colab": {
          "base_uri": "https://localhost:8080/"
        },
        "id": "kFiwMd7BgXr4",
        "outputId": "2e94e949-b304-4e9c-b30e-b14e3d6040ad"
      },
      "outputs": [
        {
          "output_type": "stream",
          "name": "stdout",
          "text": [
            "<class 'pandas.core.frame.DataFrame'>\n",
            "RangeIndex: 3080 entries, 0 to 3079\n",
            "Data columns (total 3 columns):\n",
            " #   Column       Non-Null Count  Dtype \n",
            "---  ------       --------------  ----- \n",
            " 0   Headlines    2800 non-null   object\n",
            " 1   Time         2800 non-null   object\n",
            " 2   Description  2800 non-null   object\n",
            "dtypes: object(3)\n",
            "memory usage: 72.3+ KB\n"
          ]
        }
      ],
      "source": [
        "df_cnbc.info()"
      ]
    },
    {
      "cell_type": "markdown",
      "source": [
        "**Check for missing values in all the columnns of cnbc headline dataset**"
      ],
      "metadata": {
        "id": "V4Ar0VROHw_m"
      }
    },
    {
      "cell_type": "code",
      "execution_count": 8,
      "metadata": {
        "colab": {
          "base_uri": "https://localhost:8080/"
        },
        "id": "oST2tsU9gXrE",
        "outputId": "a160820f-38a8-43ac-c109-a7b3c2027cdb"
      },
      "outputs": [
        {
          "output_type": "execute_result",
          "data": {
            "text/plain": [
              "Headlines      280\n",
              "Time           280\n",
              "Description    280\n",
              "dtype: int64"
            ]
          },
          "metadata": {},
          "execution_count": 8
        }
      ],
      "source": [
        "df_cnbc.isnull().sum()"
      ]
    },
    {
      "cell_type": "markdown",
      "source": [
        "**Observation:**\n",
        "* There is 280 missing values in headlines, description and time"
      ],
      "metadata": {
        "id": "zoJ3JLo5H5x-"
      }
    },
    {
      "cell_type": "markdown",
      "metadata": {
        "id": "YRLZs_Jg8T3r"
      },
      "source": [
        "**Drop nan values in cnbc headline dataset**"
      ]
    },
    {
      "cell_type": "code",
      "execution_count": 9,
      "metadata": {
        "id": "PdlYoGUfgXnE"
      },
      "outputs": [],
      "source": [
        "df_cnbc.dropna(inplace = True)"
      ]
    },
    {
      "cell_type": "markdown",
      "source": [
        "**Drop the duplicate rows in the dataset keep the first one**"
      ],
      "metadata": {
        "id": "kb7mGnA8ID33"
      }
    },
    {
      "cell_type": "code",
      "execution_count": 10,
      "metadata": {
        "id": "cD2J5VmmgXid"
      },
      "outputs": [],
      "source": [
        "df_cnbc.drop_duplicates(keep = 'first', inplace=True)"
      ]
    },
    {
      "cell_type": "markdown",
      "source": [
        "**Check the shape of cnbc headline dataset**"
      ],
      "metadata": {
        "id": "qVKgPd55IIS0"
      }
    },
    {
      "cell_type": "code",
      "execution_count": 11,
      "metadata": {
        "colab": {
          "base_uri": "https://localhost:8080/"
        },
        "id": "WD5tcCcagXhU",
        "outputId": "9fb269b9-4d4c-4365-c964-c55a5035e7ef"
      },
      "outputs": [
        {
          "output_type": "execute_result",
          "data": {
            "text/plain": [
              "(2800, 3)"
            ]
          },
          "metadata": {},
          "execution_count": 11
        }
      ],
      "source": [
        "df_cnbc.shape"
      ]
    },
    {
      "cell_type": "markdown",
      "source": [
        "**Reset index**"
      ],
      "metadata": {
        "id": "w3u6l_VPILlP"
      }
    },
    {
      "cell_type": "code",
      "source": [
        "df_cnbc.reset_index(drop = True, inplace = True)"
      ],
      "metadata": {
        "id": "r3FeRmZvNHBd"
      },
      "execution_count": 12,
      "outputs": []
    },
    {
      "cell_type": "markdown",
      "metadata": {
        "id": "JZFVAsUf53Vv"
      },
      "source": [
        "# **Basic EDA on Gaurdian headlines dataset**"
      ]
    },
    {
      "cell_type": "markdown",
      "source": [
        "**Read csv file of gaurdian headlines using pandas**"
      ],
      "metadata": {
        "id": "qj2kEA1mIQO5"
      }
    },
    {
      "cell_type": "code",
      "execution_count": 13,
      "metadata": {
        "id": "st0vypi5gXTz",
        "colab": {
          "base_uri": "https://localhost:8080/",
          "height": 206
        },
        "outputId": "209b5b8a-1c13-4c6e-9b8d-0d085d1f5521"
      },
      "outputs": [
        {
          "output_type": "execute_result",
          "data": {
            "text/plain": [
              "        Time                                          Headlines\n",
              "0  18-Jul-20   Johnson is asking Santa for a Christmas recovery\n",
              "1  18-Jul-20  ‘I now fear the worst’: four grim tales of wor...\n",
              "2  18-Jul-20  Five key areas Sunak must tackle to serve up e...\n",
              "3  18-Jul-20  Covid-19 leaves firms ‘fatally ill-prepared’ f...\n",
              "4  18-Jul-20  The Week in Patriarchy  \\n\\n\\n  Bacardi's 'lad..."
            ],
            "text/html": [
              "\n",
              "  <div id=\"df-dac095c3-5ca9-49f2-9540-40a328cfb865\">\n",
              "    <div class=\"colab-df-container\">\n",
              "      <div>\n",
              "<style scoped>\n",
              "    .dataframe tbody tr th:only-of-type {\n",
              "        vertical-align: middle;\n",
              "    }\n",
              "\n",
              "    .dataframe tbody tr th {\n",
              "        vertical-align: top;\n",
              "    }\n",
              "\n",
              "    .dataframe thead th {\n",
              "        text-align: right;\n",
              "    }\n",
              "</style>\n",
              "<table border=\"1\" class=\"dataframe\">\n",
              "  <thead>\n",
              "    <tr style=\"text-align: right;\">\n",
              "      <th></th>\n",
              "      <th>Time</th>\n",
              "      <th>Headlines</th>\n",
              "    </tr>\n",
              "  </thead>\n",
              "  <tbody>\n",
              "    <tr>\n",
              "      <th>0</th>\n",
              "      <td>18-Jul-20</td>\n",
              "      <td>Johnson is asking Santa for a Christmas recovery</td>\n",
              "    </tr>\n",
              "    <tr>\n",
              "      <th>1</th>\n",
              "      <td>18-Jul-20</td>\n",
              "      <td>‘I now fear the worst’: four grim tales of wor...</td>\n",
              "    </tr>\n",
              "    <tr>\n",
              "      <th>2</th>\n",
              "      <td>18-Jul-20</td>\n",
              "      <td>Five key areas Sunak must tackle to serve up e...</td>\n",
              "    </tr>\n",
              "    <tr>\n",
              "      <th>3</th>\n",
              "      <td>18-Jul-20</td>\n",
              "      <td>Covid-19 leaves firms ‘fatally ill-prepared’ f...</td>\n",
              "    </tr>\n",
              "    <tr>\n",
              "      <th>4</th>\n",
              "      <td>18-Jul-20</td>\n",
              "      <td>The Week in Patriarchy  \\n\\n\\n  Bacardi's 'lad...</td>\n",
              "    </tr>\n",
              "  </tbody>\n",
              "</table>\n",
              "</div>\n",
              "      <button class=\"colab-df-convert\" onclick=\"convertToInteractive('df-dac095c3-5ca9-49f2-9540-40a328cfb865')\"\n",
              "              title=\"Convert this dataframe to an interactive table.\"\n",
              "              style=\"display:none;\">\n",
              "        \n",
              "  <svg xmlns=\"http://www.w3.org/2000/svg\" height=\"24px\"viewBox=\"0 0 24 24\"\n",
              "       width=\"24px\">\n",
              "    <path d=\"M0 0h24v24H0V0z\" fill=\"none\"/>\n",
              "    <path d=\"M18.56 5.44l.94 2.06.94-2.06 2.06-.94-2.06-.94-.94-2.06-.94 2.06-2.06.94zm-11 1L8.5 8.5l.94-2.06 2.06-.94-2.06-.94L8.5 2.5l-.94 2.06-2.06.94zm10 10l.94 2.06.94-2.06 2.06-.94-2.06-.94-.94-2.06-.94 2.06-2.06.94z\"/><path d=\"M17.41 7.96l-1.37-1.37c-.4-.4-.92-.59-1.43-.59-.52 0-1.04.2-1.43.59L10.3 9.45l-7.72 7.72c-.78.78-.78 2.05 0 2.83L4 21.41c.39.39.9.59 1.41.59.51 0 1.02-.2 1.41-.59l7.78-7.78 2.81-2.81c.8-.78.8-2.07 0-2.86zM5.41 20L4 18.59l7.72-7.72 1.47 1.35L5.41 20z\"/>\n",
              "  </svg>\n",
              "      </button>\n",
              "      \n",
              "  <style>\n",
              "    .colab-df-container {\n",
              "      display:flex;\n",
              "      flex-wrap:wrap;\n",
              "      gap: 12px;\n",
              "    }\n",
              "\n",
              "    .colab-df-convert {\n",
              "      background-color: #E8F0FE;\n",
              "      border: none;\n",
              "      border-radius: 50%;\n",
              "      cursor: pointer;\n",
              "      display: none;\n",
              "      fill: #1967D2;\n",
              "      height: 32px;\n",
              "      padding: 0 0 0 0;\n",
              "      width: 32px;\n",
              "    }\n",
              "\n",
              "    .colab-df-convert:hover {\n",
              "      background-color: #E2EBFA;\n",
              "      box-shadow: 0px 1px 2px rgba(60, 64, 67, 0.3), 0px 1px 3px 1px rgba(60, 64, 67, 0.15);\n",
              "      fill: #174EA6;\n",
              "    }\n",
              "\n",
              "    [theme=dark] .colab-df-convert {\n",
              "      background-color: #3B4455;\n",
              "      fill: #D2E3FC;\n",
              "    }\n",
              "\n",
              "    [theme=dark] .colab-df-convert:hover {\n",
              "      background-color: #434B5C;\n",
              "      box-shadow: 0px 1px 3px 1px rgba(0, 0, 0, 0.15);\n",
              "      filter: drop-shadow(0px 1px 2px rgba(0, 0, 0, 0.3));\n",
              "      fill: #FFFFFF;\n",
              "    }\n",
              "  </style>\n",
              "\n",
              "      <script>\n",
              "        const buttonEl =\n",
              "          document.querySelector('#df-dac095c3-5ca9-49f2-9540-40a328cfb865 button.colab-df-convert');\n",
              "        buttonEl.style.display =\n",
              "          google.colab.kernel.accessAllowed ? 'block' : 'none';\n",
              "\n",
              "        async function convertToInteractive(key) {\n",
              "          const element = document.querySelector('#df-dac095c3-5ca9-49f2-9540-40a328cfb865');\n",
              "          const dataTable =\n",
              "            await google.colab.kernel.invokeFunction('convertToInteractive',\n",
              "                                                     [key], {});\n",
              "          if (!dataTable) return;\n",
              "\n",
              "          const docLinkHtml = 'Like what you see? Visit the ' +\n",
              "            '<a target=\"_blank\" href=https://colab.research.google.com/notebooks/data_table.ipynb>data table notebook</a>'\n",
              "            + ' to learn more about interactive tables.';\n",
              "          element.innerHTML = '';\n",
              "          dataTable['output_type'] = 'display_data';\n",
              "          await google.colab.output.renderOutput(dataTable, element);\n",
              "          const docLink = document.createElement('div');\n",
              "          docLink.innerHTML = docLinkHtml;\n",
              "          element.appendChild(docLink);\n",
              "        }\n",
              "      </script>\n",
              "    </div>\n",
              "  </div>\n",
              "  "
            ]
          },
          "metadata": {},
          "execution_count": 13
        }
      ],
      "source": [
        "df_guardian = pd.read_csv('/content/drive/MyDrive/Projects/Sentiment Analysis of Financial News/guardian_headlines.csv')\n",
        "df_guardian.head()"
      ]
    },
    {
      "cell_type": "markdown",
      "source": [
        "**Check the shape of gaurdian headline dataset**"
      ],
      "metadata": {
        "id": "REQMo0R9IW0-"
      }
    },
    {
      "cell_type": "code",
      "execution_count": 14,
      "metadata": {
        "colab": {
          "base_uri": "https://localhost:8080/"
        },
        "id": "09OSuHhRgXNf",
        "outputId": "c7f7e915-7336-4854-b4f1-210313647407"
      },
      "outputs": [
        {
          "output_type": "execute_result",
          "data": {
            "text/plain": [
              "(17800, 2)"
            ]
          },
          "metadata": {},
          "execution_count": 14
        }
      ],
      "source": [
        "df_guardian.shape"
      ]
    },
    {
      "cell_type": "markdown",
      "source": [
        "**Check columns of gaurdian headline**"
      ],
      "metadata": {
        "id": "13B87uU4IaD7"
      }
    },
    {
      "cell_type": "code",
      "execution_count": 15,
      "metadata": {
        "colab": {
          "base_uri": "https://localhost:8080/"
        },
        "id": "7gKFN26whZnD",
        "outputId": "69890aea-6219-4154-fd38-6ba7d2202bd1"
      },
      "outputs": [
        {
          "output_type": "execute_result",
          "data": {
            "text/plain": [
              "Index(['Time', 'Headlines'], dtype='object')"
            ]
          },
          "metadata": {},
          "execution_count": 15
        }
      ],
      "source": [
        "df_guardian.columns"
      ]
    },
    {
      "cell_type": "markdown",
      "source": [
        "**Check which columns are having categorical, numerical or boolean values**"
      ],
      "metadata": {
        "id": "9Vv-s043Idnb"
      }
    },
    {
      "cell_type": "code",
      "execution_count": 16,
      "metadata": {
        "colab": {
          "base_uri": "https://localhost:8080/"
        },
        "id": "5fplFio3hZmG",
        "outputId": "c0fb8559-45a0-4ecc-b09a-e58212e1ad98"
      },
      "outputs": [
        {
          "output_type": "stream",
          "name": "stdout",
          "text": [
            "<class 'pandas.core.frame.DataFrame'>\n",
            "RangeIndex: 17800 entries, 0 to 17799\n",
            "Data columns (total 2 columns):\n",
            " #   Column     Non-Null Count  Dtype \n",
            "---  ------     --------------  ----- \n",
            " 0   Time       17800 non-null  object\n",
            " 1   Headlines  17800 non-null  object\n",
            "dtypes: object(2)\n",
            "memory usage: 278.2+ KB\n"
          ]
        }
      ],
      "source": [
        "df_guardian.info()"
      ]
    },
    {
      "cell_type": "markdown",
      "source": [
        "**Check null values in gaurdian headlines dataset**"
      ],
      "metadata": {
        "id": "llkLpS77Ig1s"
      }
    },
    {
      "cell_type": "code",
      "execution_count": 17,
      "metadata": {
        "colab": {
          "base_uri": "https://localhost:8080/"
        },
        "id": "qaWAwEazhZh8",
        "outputId": "1f7e370d-cde6-4f3b-d5d6-4e0bcde9afb3"
      },
      "outputs": [
        {
          "output_type": "execute_result",
          "data": {
            "text/plain": [
              "Time         0\n",
              "Headlines    0\n",
              "dtype: int64"
            ]
          },
          "metadata": {},
          "execution_count": 17
        }
      ],
      "source": [
        "df_guardian.isnull().sum()"
      ]
    },
    {
      "cell_type": "markdown",
      "source": [
        "**Drop duplicate rows in headlines and keep the first one**"
      ],
      "metadata": {
        "id": "zRnFrQNHIl-N"
      }
    },
    {
      "cell_type": "code",
      "execution_count": 18,
      "metadata": {
        "id": "NBtOooYChZg9"
      },
      "outputs": [],
      "source": [
        "df_guardian.drop_duplicates(keep = 'first', inplace = True)"
      ]
    },
    {
      "cell_type": "markdown",
      "source": [
        "**Reset index**"
      ],
      "metadata": {
        "id": "VtPwLv6UIolo"
      }
    },
    {
      "cell_type": "code",
      "source": [
        "df_guardian.reset_index(drop = True, inplace = True)"
      ],
      "metadata": {
        "id": "dlKuq5H9OhO7"
      },
      "execution_count": 19,
      "outputs": []
    },
    {
      "cell_type": "markdown",
      "metadata": {
        "id": "3iwjVwnv6-v3"
      },
      "source": [
        "# **Basic EDA on reuters headlines**"
      ]
    },
    {
      "cell_type": "markdown",
      "source": [
        "**Read csv file of reuters headlines using using pandas**"
      ],
      "metadata": {
        "id": "Bps2iZmrJAw8"
      }
    },
    {
      "cell_type": "code",
      "execution_count": 20,
      "metadata": {
        "id": "asNDch3WhZXh",
        "colab": {
          "base_uri": "https://localhost:8080/",
          "height": 206
        },
        "outputId": "6f0d7dc9-7ceb-4a7d-84e9-591681786285"
      },
      "outputs": [
        {
          "output_type": "execute_result",
          "data": {
            "text/plain": [
              "                                           Headlines         Time  \\\n",
              "0  TikTok considers London and other locations fo...  Jul 18 2020   \n",
              "1  Disney cuts ad spending on Facebook amid growi...  Jul 18 2020   \n",
              "2  Trail of missing Wirecard executive leads to B...  Jul 18 2020   \n",
              "3  Twitter says attackers downloaded data from up...  Jul 18 2020   \n",
              "4  U.S. Republicans seek liability protections as...  Jul 17 2020   \n",
              "\n",
              "                                         Description  \n",
              "0  TikTok has been in discussions with the UK gov...  \n",
              "1  Walt Disney  has become the latest company to ...  \n",
              "2  Former Wirecard  chief operating officer Jan M...  \n",
              "3  Twitter Inc said on Saturday that hackers were...  \n",
              "4  A battle in the U.S. Congress over a new coron...  "
            ],
            "text/html": [
              "\n",
              "  <div id=\"df-12ad7195-9f25-47eb-b738-2de6e4c46816\">\n",
              "    <div class=\"colab-df-container\">\n",
              "      <div>\n",
              "<style scoped>\n",
              "    .dataframe tbody tr th:only-of-type {\n",
              "        vertical-align: middle;\n",
              "    }\n",
              "\n",
              "    .dataframe tbody tr th {\n",
              "        vertical-align: top;\n",
              "    }\n",
              "\n",
              "    .dataframe thead th {\n",
              "        text-align: right;\n",
              "    }\n",
              "</style>\n",
              "<table border=\"1\" class=\"dataframe\">\n",
              "  <thead>\n",
              "    <tr style=\"text-align: right;\">\n",
              "      <th></th>\n",
              "      <th>Headlines</th>\n",
              "      <th>Time</th>\n",
              "      <th>Description</th>\n",
              "    </tr>\n",
              "  </thead>\n",
              "  <tbody>\n",
              "    <tr>\n",
              "      <th>0</th>\n",
              "      <td>TikTok considers London and other locations fo...</td>\n",
              "      <td>Jul 18 2020</td>\n",
              "      <td>TikTok has been in discussions with the UK gov...</td>\n",
              "    </tr>\n",
              "    <tr>\n",
              "      <th>1</th>\n",
              "      <td>Disney cuts ad spending on Facebook amid growi...</td>\n",
              "      <td>Jul 18 2020</td>\n",
              "      <td>Walt Disney  has become the latest company to ...</td>\n",
              "    </tr>\n",
              "    <tr>\n",
              "      <th>2</th>\n",
              "      <td>Trail of missing Wirecard executive leads to B...</td>\n",
              "      <td>Jul 18 2020</td>\n",
              "      <td>Former Wirecard  chief operating officer Jan M...</td>\n",
              "    </tr>\n",
              "    <tr>\n",
              "      <th>3</th>\n",
              "      <td>Twitter says attackers downloaded data from up...</td>\n",
              "      <td>Jul 18 2020</td>\n",
              "      <td>Twitter Inc said on Saturday that hackers were...</td>\n",
              "    </tr>\n",
              "    <tr>\n",
              "      <th>4</th>\n",
              "      <td>U.S. Republicans seek liability protections as...</td>\n",
              "      <td>Jul 17 2020</td>\n",
              "      <td>A battle in the U.S. Congress over a new coron...</td>\n",
              "    </tr>\n",
              "  </tbody>\n",
              "</table>\n",
              "</div>\n",
              "      <button class=\"colab-df-convert\" onclick=\"convertToInteractive('df-12ad7195-9f25-47eb-b738-2de6e4c46816')\"\n",
              "              title=\"Convert this dataframe to an interactive table.\"\n",
              "              style=\"display:none;\">\n",
              "        \n",
              "  <svg xmlns=\"http://www.w3.org/2000/svg\" height=\"24px\"viewBox=\"0 0 24 24\"\n",
              "       width=\"24px\">\n",
              "    <path d=\"M0 0h24v24H0V0z\" fill=\"none\"/>\n",
              "    <path d=\"M18.56 5.44l.94 2.06.94-2.06 2.06-.94-2.06-.94-.94-2.06-.94 2.06-2.06.94zm-11 1L8.5 8.5l.94-2.06 2.06-.94-2.06-.94L8.5 2.5l-.94 2.06-2.06.94zm10 10l.94 2.06.94-2.06 2.06-.94-2.06-.94-.94-2.06-.94 2.06-2.06.94z\"/><path d=\"M17.41 7.96l-1.37-1.37c-.4-.4-.92-.59-1.43-.59-.52 0-1.04.2-1.43.59L10.3 9.45l-7.72 7.72c-.78.78-.78 2.05 0 2.83L4 21.41c.39.39.9.59 1.41.59.51 0 1.02-.2 1.41-.59l7.78-7.78 2.81-2.81c.8-.78.8-2.07 0-2.86zM5.41 20L4 18.59l7.72-7.72 1.47 1.35L5.41 20z\"/>\n",
              "  </svg>\n",
              "      </button>\n",
              "      \n",
              "  <style>\n",
              "    .colab-df-container {\n",
              "      display:flex;\n",
              "      flex-wrap:wrap;\n",
              "      gap: 12px;\n",
              "    }\n",
              "\n",
              "    .colab-df-convert {\n",
              "      background-color: #E8F0FE;\n",
              "      border: none;\n",
              "      border-radius: 50%;\n",
              "      cursor: pointer;\n",
              "      display: none;\n",
              "      fill: #1967D2;\n",
              "      height: 32px;\n",
              "      padding: 0 0 0 0;\n",
              "      width: 32px;\n",
              "    }\n",
              "\n",
              "    .colab-df-convert:hover {\n",
              "      background-color: #E2EBFA;\n",
              "      box-shadow: 0px 1px 2px rgba(60, 64, 67, 0.3), 0px 1px 3px 1px rgba(60, 64, 67, 0.15);\n",
              "      fill: #174EA6;\n",
              "    }\n",
              "\n",
              "    [theme=dark] .colab-df-convert {\n",
              "      background-color: #3B4455;\n",
              "      fill: #D2E3FC;\n",
              "    }\n",
              "\n",
              "    [theme=dark] .colab-df-convert:hover {\n",
              "      background-color: #434B5C;\n",
              "      box-shadow: 0px 1px 3px 1px rgba(0, 0, 0, 0.15);\n",
              "      filter: drop-shadow(0px 1px 2px rgba(0, 0, 0, 0.3));\n",
              "      fill: #FFFFFF;\n",
              "    }\n",
              "  </style>\n",
              "\n",
              "      <script>\n",
              "        const buttonEl =\n",
              "          document.querySelector('#df-12ad7195-9f25-47eb-b738-2de6e4c46816 button.colab-df-convert');\n",
              "        buttonEl.style.display =\n",
              "          google.colab.kernel.accessAllowed ? 'block' : 'none';\n",
              "\n",
              "        async function convertToInteractive(key) {\n",
              "          const element = document.querySelector('#df-12ad7195-9f25-47eb-b738-2de6e4c46816');\n",
              "          const dataTable =\n",
              "            await google.colab.kernel.invokeFunction('convertToInteractive',\n",
              "                                                     [key], {});\n",
              "          if (!dataTable) return;\n",
              "\n",
              "          const docLinkHtml = 'Like what you see? Visit the ' +\n",
              "            '<a target=\"_blank\" href=https://colab.research.google.com/notebooks/data_table.ipynb>data table notebook</a>'\n",
              "            + ' to learn more about interactive tables.';\n",
              "          element.innerHTML = '';\n",
              "          dataTable['output_type'] = 'display_data';\n",
              "          await google.colab.output.renderOutput(dataTable, element);\n",
              "          const docLink = document.createElement('div');\n",
              "          docLink.innerHTML = docLinkHtml;\n",
              "          element.appendChild(docLink);\n",
              "        }\n",
              "      </script>\n",
              "    </div>\n",
              "  </div>\n",
              "  "
            ]
          },
          "metadata": {},
          "execution_count": 20
        }
      ],
      "source": [
        "df_reuters = pd.read_csv('/content/drive/MyDrive/Projects/Sentiment Analysis of Financial News/reuters_headlines.csv')\n",
        "df_reuters.head()"
      ]
    },
    {
      "cell_type": "markdown",
      "source": [
        "**Check the shape of reuters headlines dataset**"
      ],
      "metadata": {
        "id": "7GYL9Gz4JETm"
      }
    },
    {
      "cell_type": "code",
      "execution_count": 21,
      "metadata": {
        "colab": {
          "base_uri": "https://localhost:8080/"
        },
        "id": "aRIhdEPyhZR3",
        "outputId": "3b138b45-16b6-4b76-c47d-20741d5efe01"
      },
      "outputs": [
        {
          "output_type": "execute_result",
          "data": {
            "text/plain": [
              "(32770, 3)"
            ]
          },
          "metadata": {},
          "execution_count": 21
        }
      ],
      "source": [
        "df_reuters.shape"
      ]
    },
    {
      "cell_type": "markdown",
      "source": [
        "**Check the columns of reuters headline dataset**"
      ],
      "metadata": {
        "id": "XEj6s4ajJJIm"
      }
    },
    {
      "cell_type": "code",
      "execution_count": 22,
      "metadata": {
        "colab": {
          "base_uri": "https://localhost:8080/"
        },
        "id": "zn6OnjCwhZN8",
        "outputId": "c5004c2f-56a3-48e2-8d7c-801eb0f55d4a"
      },
      "outputs": [
        {
          "output_type": "execute_result",
          "data": {
            "text/plain": [
              "Index(['Headlines', 'Time', 'Description'], dtype='object')"
            ]
          },
          "metadata": {},
          "execution_count": 22
        }
      ],
      "source": [
        "df_reuters.columns"
      ]
    },
    {
      "cell_type": "markdown",
      "source": [
        "**Check which columns are having categorical, numerical or boolean values**"
      ],
      "metadata": {
        "id": "fKg0Isn1JNfJ"
      }
    },
    {
      "cell_type": "code",
      "execution_count": 23,
      "metadata": {
        "colab": {
          "base_uri": "https://localhost:8080/"
        },
        "id": "go-UtVDjhZM1",
        "outputId": "11d9e429-8987-4a50-8c77-5b444e099e98"
      },
      "outputs": [
        {
          "output_type": "stream",
          "name": "stdout",
          "text": [
            "<class 'pandas.core.frame.DataFrame'>\n",
            "RangeIndex: 32770 entries, 0 to 32769\n",
            "Data columns (total 3 columns):\n",
            " #   Column       Non-Null Count  Dtype \n",
            "---  ------       --------------  ----- \n",
            " 0   Headlines    32770 non-null  object\n",
            " 1   Time         32770 non-null  object\n",
            " 2   Description  32770 non-null  object\n",
            "dtypes: object(3)\n",
            "memory usage: 768.2+ KB\n"
          ]
        }
      ],
      "source": [
        "df_reuters.info()"
      ]
    },
    {
      "cell_type": "markdown",
      "source": [
        "**Check for missing values in all the columnns of reuters headlines dataset**"
      ],
      "metadata": {
        "id": "vBvaLDu8JRPB"
      }
    },
    {
      "cell_type": "code",
      "execution_count": 24,
      "metadata": {
        "colab": {
          "base_uri": "https://localhost:8080/"
        },
        "id": "7d7HOHV7hZJM",
        "outputId": "1f675ffa-4987-47da-b292-87b66c293220"
      },
      "outputs": [
        {
          "output_type": "execute_result",
          "data": {
            "text/plain": [
              "Headlines      0\n",
              "Time           0\n",
              "Description    0\n",
              "dtype: int64"
            ]
          },
          "metadata": {},
          "execution_count": 24
        }
      ],
      "source": [
        "df_reuters.isnull().sum()"
      ]
    },
    {
      "cell_type": "markdown",
      "source": [
        "**Drop the duplicate rows in reuters headlines dataset and keep the first one**"
      ],
      "metadata": {
        "id": "R1uIhNECJXGL"
      }
    },
    {
      "cell_type": "code",
      "execution_count": 25,
      "metadata": {
        "id": "Zvbdb747hZHz"
      },
      "outputs": [],
      "source": [
        "df_reuters.drop_duplicates(keep ='first', inplace = True)"
      ]
    },
    {
      "cell_type": "code",
      "source": [
        "df_reuters.reset_index(drop = True, inplace = True)"
      ],
      "metadata": {
        "id": "LGXlpvbGPbWr"
      },
      "execution_count": 26,
      "outputs": []
    },
    {
      "cell_type": "markdown",
      "metadata": {
        "id": "pjlDZ7Peu7t1"
      },
      "source": [
        "# **SENTIMENT ANAYSIS**"
      ]
    },
    {
      "cell_type": "markdown",
      "metadata": {
        "id": "2uvArOVne6jB"
      },
      "source": [
        "## **Making some functions that we will need  ahead**"
      ]
    },
    {
      "cell_type": "markdown",
      "metadata": {
        "id": "94zINn2npv1V"
      },
      "source": [
        "### **Preprocessing** "
      ]
    },
    {
      "cell_type": "markdown",
      "metadata": {
        "id": "nV7crjnBpyX9"
      },
      "source": [
        "1. **Lowercase** - It is necessary to convert the text to lower case as it is case sensitive.\n",
        "\n",
        "2. **remove punctuations** -  The punctuations present in the text do not add value to the data. The punctuation, when attached to any word, will create a problem in differentiating with other words. so we have to get rid of them.\n",
        "\n",
        "3. **remove stopwords** -  Stopwords include: I, he, she, and, but, was were, being, have, etc, which do not add meaning to the data. So these words must be removed which helps to reduce the features from our data. These are removed after tokenizing the text.\n",
        "\n",
        "4. **stemming** -  A technique that takes the word to its root form. It just removes suffixes from the words. The stemmed word might not be part of the dictionary, i.e it will not necessarily give meaning.\n",
        "\n",
        "5. **lemmatizing** -  Takes the word to its root form called Lemma. It helps to bring words to their dictionary form. It is applied to nouns by default. It is more accurate as it uses more informed analysis to create groups of words with similar meanings based on the context, so it is complex and takes more time. This is used where we need to retain the contextual information.\n",
        "\n",
        "\n",
        "https://youtu.be/lMQzEk5vht4\n",
        "\n",
        "https://www.pluralsight.com/guides/importance-of-text-pre-processing"
      ]
    },
    {
      "cell_type": "markdown",
      "source": [
        "**Create a function for preprocessing**"
      ],
      "metadata": {
        "id": "_heD2Hh3Jy98"
      }
    },
    {
      "cell_type": "code",
      "execution_count": 27,
      "metadata": {
        "id": "djtZVA_IhY9b"
      },
      "outputs": [],
      "source": [
        "def preprocess(x):\n",
        "  #convert all to lowercase\n",
        "  x = x.lower()\n",
        "  #remove puntuations\n",
        "  remove_punct = str.maketrans('', '', string.punctuation)\n",
        "  x = x.translate(remove_punct)\n",
        "  #remove stopword\n",
        "  stopwordslist = stopwords.words('english')\n",
        "  tokens = word_tokenize(x)\n",
        "  result = [w for w in tokens if not w in stopwordslist] \n",
        "\n",
        "  #stemming\n",
        "  ps = PorterStemmer()\n",
        "  stemwords = [ps.stem(w) for w in result]\n",
        "  \n",
        "  #lemmitizing\n",
        "  lemmatizer = WordNetLemmatizer()\n",
        "  lemmawords = [lemmatizer.lemmatize(w) for w in stemwords]\n",
        "  \n",
        "  return ( \" \".join(lemmawords))\n",
        "  "
      ]
    },
    {
      "cell_type": "markdown",
      "source": [
        "**Import sentiment intensity analyzer**\n",
        "  * https://towardsdatascience.com/sentimental-analysis-using-vader-a3415fef7664"
      ],
      "metadata": {
        "id": "VZHBpyjRJ7Zo"
      }
    },
    {
      "cell_type": "code",
      "execution_count": 28,
      "metadata": {
        "colab": {
          "base_uri": "https://localhost:8080/"
        },
        "id": "HUxqpmosB6vy",
        "outputId": "97ac17ac-1fdc-4e1f-fdb8-d8f841af49af"
      },
      "outputs": [
        {
          "output_type": "stream",
          "name": "stderr",
          "text": [
            "[nltk_data] Downloading package vader_lexicon to /root/nltk_data...\n",
            "[nltk_data]   Package vader_lexicon is already up-to-date!\n"
          ]
        }
      ],
      "source": [
        "import nltk\n",
        "nltk.download('vader_lexicon')\n",
        "from nltk.sentiment.vader import SentimentIntensityAnalyzer\n",
        "# create sentiment intensity analyzer object\n",
        "sid = SentimentIntensityAnalyzer()"
      ]
    },
    {
      "cell_type": "markdown",
      "source": [
        "**Create fuction to  decide sentiment as positive, negative and neutral**"
      ],
      "metadata": {
        "id": "Fhzmd2KvKGiB"
      }
    },
    {
      "cell_type": "code",
      "execution_count": 29,
      "metadata": {
        "id": "GscOEWSjGfa2"
      },
      "outputs": [],
      "source": [
        "def polarity(a):\n",
        " return sid.polarity_scores(a)['compound']"
      ]
    },
    {
      "cell_type": "markdown",
      "metadata": {
        "id": "RVa-zf7xfRjc"
      },
      "source": [
        "# **Working with description of cnbc and reuters datasets**\n"
      ]
    },
    {
      "cell_type": "markdown",
      "source": [
        "**Concatenate cnbc headlines dataset and reuters headline dataset**"
      ],
      "metadata": {
        "id": "uy2w6ByDKTuJ"
      }
    },
    {
      "cell_type": "code",
      "execution_count": 30,
      "metadata": {
        "id": "NFS1pS0Zws6Z"
      },
      "outputs": [],
      "source": [
        "df_concatened_d = pd.concat([df_cnbc, df_reuters], axis = 0)"
      ]
    },
    {
      "cell_type": "markdown",
      "source": [
        "**Check the shape of this new dataset**"
      ],
      "metadata": {
        "id": "2UPD3P4xKXhI"
      }
    },
    {
      "cell_type": "code",
      "execution_count": 31,
      "metadata": {
        "colab": {
          "base_uri": "https://localhost:8080/"
        },
        "id": "eDgz1y9Cwzfm",
        "outputId": "5aff6a76-0d0f-44da-ff3b-1d6906cc10d0"
      },
      "outputs": [
        {
          "output_type": "execute_result",
          "data": {
            "text/plain": [
              "(35515, 3)"
            ]
          },
          "metadata": {},
          "execution_count": 31
        }
      ],
      "source": [
        "df_concatened_d.shape"
      ]
    },
    {
      "cell_type": "markdown",
      "source": [
        "**Make a copy of new dataset**"
      ],
      "metadata": {
        "id": "GNUDtLw0KbaQ"
      }
    },
    {
      "cell_type": "code",
      "execution_count": 32,
      "metadata": {
        "id": "u0v43468m4d0"
      },
      "outputs": [],
      "source": [
        "df_concatened_d_copy = df_concatened_d.copy()"
      ]
    },
    {
      "cell_type": "markdown",
      "source": [
        "**Apply preprocessing to the description of new dataset**"
      ],
      "metadata": {
        "id": "9LsRszpUKgw-"
      }
    },
    {
      "cell_type": "code",
      "execution_count": 33,
      "metadata": {
        "id": "KMejFN4HhY44"
      },
      "outputs": [],
      "source": [
        "df_concatened_d['Description'] = df_concatened_d['Description'].apply(lambda x : preprocess(x))"
      ]
    },
    {
      "cell_type": "markdown",
      "source": [
        "**Analyze polarity score of values in description and  add new column of it in dataset**"
      ],
      "metadata": {
        "id": "rQ_Py7QiKks_"
      }
    },
    {
      "cell_type": "code",
      "execution_count": 34,
      "metadata": {
        "id": "l97AoQKkhYzb"
      },
      "outputs": [],
      "source": [
        "df_concatened_d['ds_score'] = df_concatened_d['Description'].apply(lambda x: polarity(x))"
      ]
    },
    {
      "cell_type": "markdown",
      "source": [
        "**Create a function which will assign sentiment based on polarity score**"
      ],
      "metadata": {
        "id": "GiMvxrqTKpVr"
      }
    },
    {
      "cell_type": "code",
      "source": [
        "def assign_sentiment(x):\n",
        "  if x > 0:\n",
        "    return 'Positive'\n",
        "  if x < 0:\n",
        "    return 'Negative'\n",
        "  if x == 0:\n",
        "    return 'Neutral'"
      ],
      "metadata": {
        "id": "Uf2C7LfOZplj"
      },
      "execution_count": 35,
      "outputs": []
    },
    {
      "cell_type": "markdown",
      "source": [
        "**Apply the function  which decides sentiment to  polarity score column**"
      ],
      "metadata": {
        "id": "5ChgoCYlK4UX"
      }
    },
    {
      "cell_type": "code",
      "source": [
        "df_concatened_d['ds_score'] = df_concatened_d['ds_score'].apply(lambda x : assign_sentiment(x))"
      ],
      "metadata": {
        "id": "6qMrJTKCc_pU"
      },
      "execution_count": 36,
      "outputs": []
    },
    {
      "cell_type": "code",
      "source": [
        "df_concatened_d.head()"
      ],
      "metadata": {
        "id": "GzcsVstURbQK"
      },
      "execution_count": null,
      "outputs": []
    },
    {
      "cell_type": "markdown",
      "source": [
        "**Plot a count plot on description score column**"
      ],
      "metadata": {
        "id": "Nty-DtvCK85b"
      }
    },
    {
      "cell_type": "code",
      "source": [
        "sns.countplot(df_concatened_d['ds_score'])"
      ],
      "metadata": {
        "colab": {
          "base_uri": "https://localhost:8080/",
          "height": 297
        },
        "id": "AAdtaMsDdKw8",
        "outputId": "59eac331-a2a2-4e38-85f6-62703245f084"
      },
      "execution_count": 37,
      "outputs": [
        {
          "output_type": "execute_result",
          "data": {
            "text/plain": [
              "<matplotlib.axes._subplots.AxesSubplot at 0x7fbd2dbd4130>"
            ]
          },
          "metadata": {},
          "execution_count": 37
        },
        {
          "output_type": "display_data",
          "data": {
            "text/plain": [
              "<Figure size 432x288 with 1 Axes>"
            ],
            "image/png": "[encoded data removed]"
          },
          "metadata": {
            "needs_background": "light"
          }
        }
      ]
    },
    {
      "cell_type": "markdown",
      "metadata": {
        "id": "r5q_doOjIQu-"
      },
      "source": [
        "**Observation:**\n",
        "* Descriptions contains approximately:\n",
        "  * 14000 positive statment\n",
        "  * 12000 negative statment\n",
        "  * 8000 neutral statment"
      ]
    },
    {
      "cell_type": "markdown",
      "source": [
        "**Plot a pie plot on description score column**"
      ],
      "metadata": {
        "id": "5m69ET2SLB73"
      }
    },
    {
      "cell_type": "code",
      "source": [
        "# define Seaborn color palette to use\n",
        "palette_color = sns.color_palette('bright')\n",
        "  \n",
        "# plotting data on chart\n",
        "plt.figure(figsize = (20,5))\n",
        "plt.pie(df_concatened_d['ds_score'].value_counts(normalize = True), autopct='%.2f%%', colors=palette_color)\n",
        "plt.legend(['Positive', 'Negative', 'Neutral'])\n",
        "\n",
        "# displaying chart\n",
        "plt.show()"
      ],
      "metadata": {
        "colab": {
          "base_uri": "https://localhost:8080/",
          "height": 303
        },
        "id": "pZNv_Yx9oR8Z",
        "outputId": "8e7aa7b3-b0b8-42e5-d60e-e37fc5c1b7ed"
      },
      "execution_count": 38,
      "outputs": [
        {
          "output_type": "display_data",
          "data": {
            "text/plain": [
              "<Figure size 1440x360 with 1 Axes>"
            ],
            "image/png": "[encoded data removed]"
          },
          "metadata": {}
        }
      ]
    },
    {
      "cell_type": "markdown",
      "metadata": {
        "id": "5o3Z-0KhHm2w"
      },
      "source": [
        "**Observation:**\n",
        "* Descriptions contains:\n",
        "  * 42.43 % positive statments\n",
        "  * 34.57 % negtive statements\n",
        "  * 23.00 % neutral statments"
      ]
    },
    {
      "cell_type": "markdown",
      "source": [
        "### **Spliting in Independent and Dependent Features**"
      ],
      "metadata": {
        "id": "bCIBMhD2jMTG"
      }
    },
    {
      "cell_type": "code",
      "source": [
        "X = df_concatened_d['Description']\n",
        "y = df_concatened_d['ds_score']"
      ],
      "metadata": {
        "id": "BYc6JlF2FpY1"
      },
      "execution_count": 39,
      "outputs": []
    },
    {
      "cell_type": "markdown",
      "source": [
        "### **Train test split**\n",
        "* Split the dataset  into test and train \n",
        "* 90% train , 10% test and random state 212"
      ],
      "metadata": {
        "id": "JrzSjxhSjUDV"
      }
    },
    {
      "cell_type": "code",
      "execution_count": 40,
      "metadata": {
        "id": "pOd6wPeUhYd2"
      },
      "outputs": [],
      "source": [
        "X_train, X_test, y_train, y_test = train_test_split(X, y, test_size=0.10, random_state = 212)"
      ]
    },
    {
      "cell_type": "markdown",
      "metadata": {
        "id": "wgt0f3fKfakl"
      },
      "source": [
        "## **Modelling on description of cnbc headlines dataset and reuters headline dataset on datasets** "
      ]
    },
    {
      "cell_type": "code",
      "source": [
        "'''All Models'''\n",
        "models = {\n",
        "1 : make_pipeline(TfidfVectorizer(),LinearSVC(random_state=0, tol=1e-5)),\n",
        "2 : make_pipeline(CountVectorizer(),TfidfTransformer(),LogisticRegression()),\n",
        "3 : make_pipeline(CountVectorizer(),TfidfTransformer(),MultinomialNB()),\n",
        "4 : make_pipeline(CountVectorizer(),TfidfTransformer(),BernoulliNB()),\n",
        "5 : make_pipeline(CountVectorizer(),TfidfTransformer(),GradientBoostingClassifier()),\n",
        "6 : make_pipeline(CountVectorizer(),TfidfTransformer(),xg.XGBClassifier()),\n",
        "7 : make_pipeline(CountVectorizer(),TfidfTransformer(),DecisionTreeClassifier()),\n",
        "8 : make_pipeline(CountVectorizer(),TfidfTransformer(),KNeighborsClassifier())\n",
        "}\n",
        "\n",
        "map_keys = list(models.keys())"
      ],
      "metadata": {
        "id": "UQZPNj7hcJya"
      },
      "execution_count": 41,
      "outputs": []
    },
    {
      "cell_type": "code",
      "source": [
        "def get_model_building_technique_name(num):\n",
        "  if num == 1:\n",
        "    return 'LinearSVC'\n",
        "  if num == 2:\n",
        "    return 'LogisticRegression'\n",
        "  if num == 3:\n",
        "    return 'MultinomialNB'\n",
        "  if num == 4:\n",
        "    return 'BernoulliNB'\n",
        "  if num == 5:\n",
        "    return 'GradientBoostingClassifier'\n",
        "  if num == 6:\n",
        "    return 'XGBClassifier'\n",
        "  if num == 7:\n",
        "    return 'DecisionTreeClassifier'\n",
        "  if num == 8:\n",
        "    return 'KNeighborsClassifier'\n",
        "  return ''\n",
        "     "
      ],
      "metadata": {
        "id": "Of8gAqWFcVS4"
      },
      "execution_count": 42,
      "outputs": []
    },
    {
      "cell_type": "code",
      "source": [
        "results = [];\n",
        "for key_index in range(len(map_keys)):\n",
        "  try:\n",
        "    key = map_keys[key_index]\n",
        "    model = models[key]\n",
        "    print(key)\n",
        "    model.fit(X_train, y_train)\n",
        "\n",
        "    '''Test Accuracy'''\n",
        "    y_pred = model.predict(X_test)\n",
        "\n",
        "    Accuracy_Test = accuracy_score(y_test, y_pred)\n",
        "    conf_mat_Test = confusion_matrix(y_test, y_pred)\n",
        "    true_positive_Test = conf_mat_Test[0][0]\n",
        "    false_positive_Test = conf_mat_Test[0][1]\n",
        "    false_negative_Test = conf_mat_Test[1][0]\n",
        "    true_negative__Test = conf_mat_Test[1][1]\n",
        "    Precision_Test = true_positive_Test /(true_positive_Test + false_positive_Test)\n",
        "    Recall_Test = true_positive_Test/(true_positive_Test + false_negative_Test)\n",
        "    F1_Score_Test = 2*(Recall_Test * Precision_Test) / (Recall_Test + Precision_Test)\n",
        "    # AUC_Test = roc_auc_score(y_test, y_pred)\n",
        "\n",
        "    '''Train Accuracy'''\n",
        "    y_pred_train = model.predict(X_train)\n",
        "\n",
        "    Accuracy_Train = accuracy_score(y_train, y_pred_train)\n",
        "    conf_mat_Train = confusion_matrix(y_train, y_pred_train)\n",
        "    true_positive_Train = conf_mat_Train[0][0]\n",
        "    false_positive_Train = conf_mat_Train[0][1]\n",
        "    false_negative_Train = conf_mat_Train[1][0]\n",
        "    true_negative__Train = conf_mat_Train[1][1]\n",
        "    Precision_Train = true_positive_Train /(true_positive_Train + false_positive_Train)\n",
        "    Recall_Train = true_positive_Train/(true_positive_Train + false_negative_Train)\n",
        "    F1_Score_Train = 2*(Recall_Train * Precision_Train) / (Recall_Train + Precision_Train)\n",
        "    # AUC_Train = roc_auc_score(y_train, y_pred_train)\n",
        "\n",
        "    results.append({\n",
        "        'Model Name' : get_model_building_technique_name(key),\n",
        "        'Trained Model' : model,\n",
        "        'Accuracy_Test' : Accuracy_Test,\n",
        "        'Precision_Test' : Precision_Test,\n",
        "        'Recall_Test' : Recall_Test, \n",
        "        'F1_Score_Test' : F1_Score_Test, \n",
        "        # 'AUC_Test' : AUC_Test,\n",
        "        'Accuracy_Train' : Accuracy_Train,\n",
        "        'Precision_Train' : Precision_Train,\n",
        "        'Recall_Train' : Recall_Train, \n",
        "        'F1_Score_Train' : F1_Score_Train \n",
        "        # 'AUC_Train' : AUC_Train\n",
        "        })\n",
        "  except:\n",
        "    print('Error')"
      ],
      "metadata": {
        "colab": {
          "base_uri": "https://localhost:8080/"
        },
        "id": "fQIf2aNLcVVm",
        "outputId": "d21ba21f-ac8b-4864-a21b-dfe298c49de8"
      },
      "execution_count": 43,
      "outputs": [
        {
          "output_type": "stream",
          "name": "stdout",
          "text": [
            "1\n",
            "2\n",
            "3\n",
            "4\n",
            "5\n",
            "6\n",
            "7\n",
            "8\n"
          ]
        }
      ]
    },
    {
      "cell_type": "code",
      "source": [
        "result_df = pd.DataFrame(results)\n",
        "result_df['difference_f1_score'] = abs(result_df['F1_Score_Test'] - result_df['F1_Score_Train'])\n",
        "# result_df_test = result_df.iloc[: , [0,2,3,4,5]]\n",
        "# result_df_train = result_df.iloc[: , [0,6,7,8,9]]\n",
        "result_df"
      ],
      "metadata": {
        "colab": {
          "base_uri": "https://localhost:8080/",
          "height": 483
        },
        "id": "viIFiJxecVZe",
        "outputId": "c8c19327-93da-4bb3-86da-e423b8139b32"
      },
      "execution_count": 44,
      "outputs": [
        {
          "output_type": "execute_result",
          "data": {
            "text/plain": [
              "                   Model Name  \\\n",
              "0                   LinearSVC   \n",
              "1          LogisticRegression   \n",
              "2               MultinomialNB   \n",
              "3                 BernoulliNB   \n",
              "4  GradientBoostingClassifier   \n",
              "5               XGBClassifier   \n",
              "6      DecisionTreeClassifier   \n",
              "7        KNeighborsClassifier   \n",
              "\n",
              "                                       Trained Model  Accuracy_Test  \\\n",
              "0  (TfidfVectorizer(), LinearSVC(random_state=0, ...       0.932151   \n",
              "1  (CountVectorizer(), TfidfTransformer(), Logist...       0.894426   \n",
              "2  (CountVectorizer(), TfidfTransformer(), Multin...       0.639921   \n",
              "3  (CountVectorizer(), TfidfTransformer(), Bernou...       0.739302   \n",
              "4  (CountVectorizer(), TfidfTransformer(), ([Deci...       0.842061   \n",
              "5  (CountVectorizer(), TfidfTransformer(), XGBCla...       0.802646   \n",
              "6  (CountVectorizer(), TfidfTransformer(), Decisi...       0.877252   \n",
              "7  (CountVectorizer(), TfidfTransformer(), KNeigh...       0.550957   \n",
              "\n",
              "   Precision_Test  Recall_Test  F1_Score_Test  Accuracy_Train  \\\n",
              "0        0.961407     0.981611       0.971404        0.987141   \n",
              "1        0.932921     0.967949       0.950112        0.953415   \n",
              "2        0.990196     0.843424       0.910936        0.716516   \n",
              "3        0.942564     0.871090       0.905419        0.827019   \n",
              "4        0.842644     0.989071       0.910005        0.846573   \n",
              "5        0.802669     0.987104       0.885384        0.809843   \n",
              "6        0.979808     0.989320       0.984541        1.000000   \n",
              "7        0.827586     0.761194       0.793003        0.707599   \n",
              "\n",
              "   Precision_Train  Recall_Train  F1_Score_Train  difference_f1_score  \n",
              "0         0.997710      0.992799        0.995248             0.023844  \n",
              "1         0.975596      0.986419        0.980978             0.030865  \n",
              "2         0.994617      0.871009        0.928718             0.017783  \n",
              "3         0.960318      0.919350        0.939388             0.033969  \n",
              "4         0.844690      0.992226        0.912534             0.002528  \n",
              "5         0.811252      0.992166        0.892635             0.007251  \n",
              "6         1.000000      1.000000        1.000000             0.015459  \n",
              "7         0.900781      0.837077        0.867761             0.074759  "
            ],
            "text/html": [
              "\n",
              "  <div id=\"df-5390e8ee-200a-4f54-8fb2-a55706acfb6f\">\n",
              "    <div class=\"colab-df-container\">\n",
              "      <div>\n",
              "<style scoped>\n",
              "    .dataframe tbody tr th:only-of-type {\n",
              "        vertical-align: middle;\n",
              "    }\n",
              "\n",
              "    .dataframe tbody tr th {\n",
              "        vertical-align: top;\n",
              "    }\n",
              "\n",
              "    .dataframe thead th {\n",
              "        text-align: right;\n",
              "    }\n",
              "</style>\n",
              "<table border=\"1\" class=\"dataframe\">\n",
              "  <thead>\n",
              "    <tr style=\"text-align: right;\">\n",
              "      <th></th>\n",
              "      <th>Model Name</th>\n",
              "      <th>Trained Model</th>\n",
              "      <th>Accuracy_Test</th>\n",
              "      <th>Precision_Test</th>\n",
              "      <th>Recall_Test</th>\n",
              "      <th>F1_Score_Test</th>\n",
              "      <th>Accuracy_Train</th>\n",
              "      <th>Precision_Train</th>\n",
              "      <th>Recall_Train</th>\n",
              "      <th>F1_Score_Train</th>\n",
              "      <th>difference_f1_score</th>\n",
              "    </tr>\n",
              "  </thead>\n",
              "  <tbody>\n",
              "    <tr>\n",
              "      <th>0</th>\n",
              "      <td>LinearSVC</td>\n",
              "      <td>(TfidfVectorizer(), LinearSVC(random_state=0, ...</td>\n",
              "      <td>0.932151</td>\n",
              "      <td>0.961407</td>\n",
              "      <td>0.981611</td>\n",
              "      <td>0.971404</td>\n",
              "      <td>0.987141</td>\n",
              "      <td>0.997710</td>\n",
              "      <td>0.992799</td>\n",
              "      <td>0.995248</td>\n",
              "      <td>0.023844</td>\n",
              "    </tr>\n",
              "    <tr>\n",
              "      <th>1</th>\n",
              "      <td>LogisticRegression</td>\n",
              "      <td>(CountVectorizer(), TfidfTransformer(), Logist...</td>\n",
              "      <td>0.894426</td>\n",
              "      <td>0.932921</td>\n",
              "      <td>0.967949</td>\n",
              "      <td>0.950112</td>\n",
              "      <td>0.953415</td>\n",
              "      <td>0.975596</td>\n",
              "      <td>0.986419</td>\n",
              "      <td>0.980978</td>\n",
              "      <td>0.030865</td>\n",
              "    </tr>\n",
              "    <tr>\n",
              "      <th>2</th>\n",
              "      <td>MultinomialNB</td>\n",
              "      <td>(CountVectorizer(), TfidfTransformer(), Multin...</td>\n",
              "      <td>0.639921</td>\n",
              "      <td>0.990196</td>\n",
              "      <td>0.843424</td>\n",
              "      <td>0.910936</td>\n",
              "      <td>0.716516</td>\n",
              "      <td>0.994617</td>\n",
              "      <td>0.871009</td>\n",
              "      <td>0.928718</td>\n",
              "      <td>0.017783</td>\n",
              "    </tr>\n",
              "    <tr>\n",
              "      <th>3</th>\n",
              "      <td>BernoulliNB</td>\n",
              "      <td>(CountVectorizer(), TfidfTransformer(), Bernou...</td>\n",
              "      <td>0.739302</td>\n",
              "      <td>0.942564</td>\n",
              "      <td>0.871090</td>\n",
              "      <td>0.905419</td>\n",
              "      <td>0.827019</td>\n",
              "      <td>0.960318</td>\n",
              "      <td>0.919350</td>\n",
              "      <td>0.939388</td>\n",
              "      <td>0.033969</td>\n",
              "    </tr>\n",
              "    <tr>\n",
              "      <th>4</th>\n",
              "      <td>GradientBoostingClassifier</td>\n",
              "      <td>(CountVectorizer(), TfidfTransformer(), ([Deci...</td>\n",
              "      <td>0.842061</td>\n",
              "      <td>0.842644</td>\n",
              "      <td>0.989071</td>\n",
              "      <td>0.910005</td>\n",
              "      <td>0.846573</td>\n",
              "      <td>0.844690</td>\n",
              "      <td>0.992226</td>\n",
              "      <td>0.912534</td>\n",
              "      <td>0.002528</td>\n",
              "    </tr>\n",
              "    <tr>\n",
              "      <th>5</th>\n",
              "      <td>XGBClassifier</td>\n",
              "      <td>(CountVectorizer(), TfidfTransformer(), XGBCla...</td>\n",
              "      <td>0.802646</td>\n",
              "      <td>0.802669</td>\n",
              "      <td>0.987104</td>\n",
              "      <td>0.885384</td>\n",
              "      <td>0.809843</td>\n",
              "      <td>0.811252</td>\n",
              "      <td>0.992166</td>\n",
              "      <td>0.892635</td>\n",
              "      <td>0.007251</td>\n",
              "    </tr>\n",
              "    <tr>\n",
              "      <th>6</th>\n",
              "      <td>DecisionTreeClassifier</td>\n",
              "      <td>(CountVectorizer(), TfidfTransformer(), Decisi...</td>\n",
              "      <td>0.877252</td>\n",
              "      <td>0.979808</td>\n",
              "      <td>0.989320</td>\n",
              "      <td>0.984541</td>\n",
              "      <td>1.000000</td>\n",
              "      <td>1.000000</td>\n",
              "      <td>1.000000</td>\n",
              "      <td>1.000000</td>\n",
              "      <td>0.015459</td>\n",
              "    </tr>\n",
              "    <tr>\n",
              "      <th>7</th>\n",
              "      <td>KNeighborsClassifier</td>\n",
              "      <td>(CountVectorizer(), TfidfTransformer(), KNeigh...</td>\n",
              "      <td>0.550957</td>\n",
              "      <td>0.827586</td>\n",
              "      <td>0.761194</td>\n",
              "      <td>0.793003</td>\n",
              "      <td>0.707599</td>\n",
              "      <td>0.900781</td>\n",
              "      <td>0.837077</td>\n",
              "      <td>0.867761</td>\n",
              "      <td>0.074759</td>\n",
              "    </tr>\n",
              "  </tbody>\n",
              "</table>\n",
              "</div>\n",
              "      <button class=\"colab-df-convert\" onclick=\"convertToInteractive('df-5390e8ee-200a-4f54-8fb2-a55706acfb6f')\"\n",
              "              title=\"Convert this dataframe to an interactive table.\"\n",
              "              style=\"display:none;\">\n",
              "        \n",
              "  <svg xmlns=\"http://www.w3.org/2000/svg\" height=\"24px\"viewBox=\"0 0 24 24\"\n",
              "       width=\"24px\">\n",
              "    <path d=\"M0 0h24v24H0V0z\" fill=\"none\"/>\n",
              "    <path d=\"M18.56 5.44l.94 2.06.94-2.06 2.06-.94-2.06-.94-.94-2.06-.94 2.06-2.06.94zm-11 1L8.5 8.5l.94-2.06 2.06-.94-2.06-.94L8.5 2.5l-.94 2.06-2.06.94zm10 10l.94 2.06.94-2.06 2.06-.94-2.06-.94-.94-2.06-.94 2.06-2.06.94z\"/><path d=\"M17.41 7.96l-1.37-1.37c-.4-.4-.92-.59-1.43-.59-.52 0-1.04.2-1.43.59L10.3 9.45l-7.72 7.72c-.78.78-.78 2.05 0 2.83L4 21.41c.39.39.9.59 1.41.59.51 0 1.02-.2 1.41-.59l7.78-7.78 2.81-2.81c.8-.78.8-2.07 0-2.86zM5.41 20L4 18.59l7.72-7.72 1.47 1.35L5.41 20z\"/>\n",
              "  </svg>\n",
              "      </button>\n",
              "      \n",
              "  <style>\n",
              "    .colab-df-container {\n",
              "      display:flex;\n",
              "      flex-wrap:wrap;\n",
              "      gap: 12px;\n",
              "    }\n",
              "\n",
              "    .colab-df-convert {\n",
              "      background-color: #E8F0FE;\n",
              "      border: none;\n",
              "      border-radius: 50%;\n",
              "      cursor: pointer;\n",
              "      display: none;\n",
              "      fill: #1967D2;\n",
              "      height: 32px;\n",
              "      padding: 0 0 0 0;\n",
              "      width: 32px;\n",
              "    }\n",
              "\n",
              "    .colab-df-convert:hover {\n",
              "      background-color: #E2EBFA;\n",
              "      box-shadow: 0px 1px 2px rgba(60, 64, 67, 0.3), 0px 1px 3px 1px rgba(60, 64, 67, 0.15);\n",
              "      fill: #174EA6;\n",
              "    }\n",
              "\n",
              "    [theme=dark] .colab-df-convert {\n",
              "      background-color: #3B4455;\n",
              "      fill: #D2E3FC;\n",
              "    }\n",
              "\n",
              "    [theme=dark] .colab-df-convert:hover {\n",
              "      background-color: #434B5C;\n",
              "      box-shadow: 0px 1px 3px 1px rgba(0, 0, 0, 0.15);\n",
              "      filter: drop-shadow(0px 1px 2px rgba(0, 0, 0, 0.3));\n",
              "      fill: #FFFFFF;\n",
              "    }\n",
              "  </style>\n",
              "\n",
              "      <script>\n",
              "        const buttonEl =\n",
              "          document.querySelector('#df-5390e8ee-200a-4f54-8fb2-a55706acfb6f button.colab-df-convert');\n",
              "        buttonEl.style.display =\n",
              "          google.colab.kernel.accessAllowed ? 'block' : 'none';\n",
              "\n",
              "        async function convertToInteractive(key) {\n",
              "          const element = document.querySelector('#df-5390e8ee-200a-4f54-8fb2-a55706acfb6f');\n",
              "          const dataTable =\n",
              "            await google.colab.kernel.invokeFunction('convertToInteractive',\n",
              "                                                     [key], {});\n",
              "          if (!dataTable) return;\n",
              "\n",
              "          const docLinkHtml = 'Like what you see? Visit the ' +\n",
              "            '<a target=\"_blank\" href=https://colab.research.google.com/notebooks/data_table.ipynb>data table notebook</a>'\n",
              "            + ' to learn more about interactive tables.';\n",
              "          element.innerHTML = '';\n",
              "          dataTable['output_type'] = 'display_data';\n",
              "          await google.colab.output.renderOutput(dataTable, element);\n",
              "          const docLink = document.createElement('div');\n",
              "          docLink.innerHTML = docLinkHtml;\n",
              "          element.appendChild(docLink);\n",
              "        }\n",
              "      </script>\n",
              "    </div>\n",
              "  </div>\n",
              "  "
            ]
          },
          "metadata": {},
          "execution_count": 44
        }
      ]
    },
    {
      "cell_type": "markdown",
      "source": [
        "**Save best model**"
      ],
      "metadata": {
        "id": "WKUN_EP5LnVh"
      }
    },
    {
      "cell_type": "code",
      "source": [
        "Best_Model_Name = result_df[result_df['difference_f1_score'] == min(result_df['difference_f1_score'])]['Trained Model'].values[0]\n",
        "import pickle\n",
        "with open('financial_news_model_d.sav', 'wb') as best_model_pickle:\n",
        " pickle.dump(Best_Model_Name, best_model_pickle)"
      ],
      "metadata": {
        "id": "u6bhsuxXciqe"
      },
      "execution_count": 45,
      "outputs": []
    },
    {
      "cell_type": "markdown",
      "metadata": {
        "id": "YxNC09uekdZH"
      },
      "source": [
        "### **Working with test dataset**"
      ]
    },
    {
      "cell_type": "markdown",
      "source": [
        "**Perforn the prediction on the test dataset**"
      ],
      "metadata": {
        "id": "oLJE7dy2LuB7"
      }
    },
    {
      "cell_type": "code",
      "execution_count": 46,
      "metadata": {
        "colab": {
          "base_uri": "https://localhost:8080/",
          "height": 424
        },
        "id": "P_XD4m1Fkh3i",
        "outputId": "9f9a5cdf-e227-4882-cb16-d1490fdc543d"
      },
      "outputs": [
        {
          "output_type": "execute_result",
          "data": {
            "text/plain": [
              "             0\n",
              "0     Negative\n",
              "1      Neutral\n",
              "2      Neutral\n",
              "3     Positive\n",
              "4      Neutral\n",
              "...        ...\n",
              "3547  Negative\n",
              "3548  Positive\n",
              "3549   Neutral\n",
              "3550  Positive\n",
              "3551   Neutral\n",
              "\n",
              "[3552 rows x 1 columns]"
            ],
            "text/html": [
              "\n",
              "  <div id=\"df-8ce9be46-1d25-46fd-aca0-e697fb1e6b4e\">\n",
              "    <div class=\"colab-df-container\">\n",
              "      <div>\n",
              "<style scoped>\n",
              "    .dataframe tbody tr th:only-of-type {\n",
              "        vertical-align: middle;\n",
              "    }\n",
              "\n",
              "    .dataframe tbody tr th {\n",
              "        vertical-align: top;\n",
              "    }\n",
              "\n",
              "    .dataframe thead th {\n",
              "        text-align: right;\n",
              "    }\n",
              "</style>\n",
              "<table border=\"1\" class=\"dataframe\">\n",
              "  <thead>\n",
              "    <tr style=\"text-align: right;\">\n",
              "      <th></th>\n",
              "      <th>0</th>\n",
              "    </tr>\n",
              "  </thead>\n",
              "  <tbody>\n",
              "    <tr>\n",
              "      <th>0</th>\n",
              "      <td>Negative</td>\n",
              "    </tr>\n",
              "    <tr>\n",
              "      <th>1</th>\n",
              "      <td>Neutral</td>\n",
              "    </tr>\n",
              "    <tr>\n",
              "      <th>2</th>\n",
              "      <td>Neutral</td>\n",
              "    </tr>\n",
              "    <tr>\n",
              "      <th>3</th>\n",
              "      <td>Positive</td>\n",
              "    </tr>\n",
              "    <tr>\n",
              "      <th>4</th>\n",
              "      <td>Neutral</td>\n",
              "    </tr>\n",
              "    <tr>\n",
              "      <th>...</th>\n",
              "      <td>...</td>\n",
              "    </tr>\n",
              "    <tr>\n",
              "      <th>3547</th>\n",
              "      <td>Negative</td>\n",
              "    </tr>\n",
              "    <tr>\n",
              "      <th>3548</th>\n",
              "      <td>Positive</td>\n",
              "    </tr>\n",
              "    <tr>\n",
              "      <th>3549</th>\n",
              "      <td>Neutral</td>\n",
              "    </tr>\n",
              "    <tr>\n",
              "      <th>3550</th>\n",
              "      <td>Positive</td>\n",
              "    </tr>\n",
              "    <tr>\n",
              "      <th>3551</th>\n",
              "      <td>Neutral</td>\n",
              "    </tr>\n",
              "  </tbody>\n",
              "</table>\n",
              "<p>3552 rows × 1 columns</p>\n",
              "</div>\n",
              "      <button class=\"colab-df-convert\" onclick=\"convertToInteractive('df-8ce9be46-1d25-46fd-aca0-e697fb1e6b4e')\"\n",
              "              title=\"Convert this dataframe to an interactive table.\"\n",
              "              style=\"display:none;\">\n",
              "        \n",
              "  <svg xmlns=\"http://www.w3.org/2000/svg\" height=\"24px\"viewBox=\"0 0 24 24\"\n",
              "       width=\"24px\">\n",
              "    <path d=\"M0 0h24v24H0V0z\" fill=\"none\"/>\n",
              "    <path d=\"M18.56 5.44l.94 2.06.94-2.06 2.06-.94-2.06-.94-.94-2.06-.94 2.06-2.06.94zm-11 1L8.5 8.5l.94-2.06 2.06-.94-2.06-.94L8.5 2.5l-.94 2.06-2.06.94zm10 10l.94 2.06.94-2.06 2.06-.94-2.06-.94-.94-2.06-.94 2.06-2.06.94z\"/><path d=\"M17.41 7.96l-1.37-1.37c-.4-.4-.92-.59-1.43-.59-.52 0-1.04.2-1.43.59L10.3 9.45l-7.72 7.72c-.78.78-.78 2.05 0 2.83L4 21.41c.39.39.9.59 1.41.59.51 0 1.02-.2 1.41-.59l7.78-7.78 2.81-2.81c.8-.78.8-2.07 0-2.86zM5.41 20L4 18.59l7.72-7.72 1.47 1.35L5.41 20z\"/>\n",
              "  </svg>\n",
              "      </button>\n",
              "      \n",
              "  <style>\n",
              "    .colab-df-container {\n",
              "      display:flex;\n",
              "      flex-wrap:wrap;\n",
              "      gap: 12px;\n",
              "    }\n",
              "\n",
              "    .colab-df-convert {\n",
              "      background-color: #E8F0FE;\n",
              "      border: none;\n",
              "      border-radius: 50%;\n",
              "      cursor: pointer;\n",
              "      display: none;\n",
              "      fill: #1967D2;\n",
              "      height: 32px;\n",
              "      padding: 0 0 0 0;\n",
              "      width: 32px;\n",
              "    }\n",
              "\n",
              "    .colab-df-convert:hover {\n",
              "      background-color: #E2EBFA;\n",
              "      box-shadow: 0px 1px 2px rgba(60, 64, 67, 0.3), 0px 1px 3px 1px rgba(60, 64, 67, 0.15);\n",
              "      fill: #174EA6;\n",
              "    }\n",
              "\n",
              "    [theme=dark] .colab-df-convert {\n",
              "      background-color: #3B4455;\n",
              "      fill: #D2E3FC;\n",
              "    }\n",
              "\n",
              "    [theme=dark] .colab-df-convert:hover {\n",
              "      background-color: #434B5C;\n",
              "      box-shadow: 0px 1px 3px 1px rgba(0, 0, 0, 0.15);\n",
              "      filter: drop-shadow(0px 1px 2px rgba(0, 0, 0, 0.3));\n",
              "      fill: #FFFFFF;\n",
              "    }\n",
              "  </style>\n",
              "\n",
              "      <script>\n",
              "        const buttonEl =\n",
              "          document.querySelector('#df-8ce9be46-1d25-46fd-aca0-e697fb1e6b4e button.colab-df-convert');\n",
              "        buttonEl.style.display =\n",
              "          google.colab.kernel.accessAllowed ? 'block' : 'none';\n",
              "\n",
              "        async function convertToInteractive(key) {\n",
              "          const element = document.querySelector('#df-8ce9be46-1d25-46fd-aca0-e697fb1e6b4e');\n",
              "          const dataTable =\n",
              "            await google.colab.kernel.invokeFunction('convertToInteractive',\n",
              "                                                     [key], {});\n",
              "          if (!dataTable) return;\n",
              "\n",
              "          const docLinkHtml = 'Like what you see? Visit the ' +\n",
              "            '<a target=\"_blank\" href=https://colab.research.google.com/notebooks/data_table.ipynb>data table notebook</a>'\n",
              "            + ' to learn more about interactive tables.';\n",
              "          element.innerHTML = '';\n",
              "          dataTable['output_type'] = 'display_data';\n",
              "          await google.colab.output.renderOutput(dataTable, element);\n",
              "          const docLink = document.createElement('div');\n",
              "          docLink.innerHTML = docLinkHtml;\n",
              "          element.appendChild(docLink);\n",
              "        }\n",
              "      </script>\n",
              "    </div>\n",
              "  </div>\n",
              "  "
            ]
          },
          "metadata": {},
          "execution_count": 46
        }
      ],
      "source": [
        "loaded_model_cr = pickle.load(open('financial_news_model_d.sav', 'rb'))\n",
        "result = loaded_model_cr.predict(X_test)\n",
        "pd.DataFrame(result)"
      ]
    },
    {
      "cell_type": "markdown",
      "metadata": {
        "id": "LcDOjy2MfkG2"
      },
      "source": [
        "# **Working with headlines + description  of cnbc and reuters datasets**"
      ]
    },
    {
      "cell_type": "markdown",
      "source": [
        "**Creating copy of orifioriginalngal**"
      ],
      "metadata": {
        "id": "hSAoOoG3MOld"
      }
    },
    {
      "cell_type": "code",
      "source": [
        "df_concatened_d_copied = df_concatened_d.copy()"
      ],
      "metadata": {
        "id": "azyXD8bLmRxy"
      },
      "execution_count": 47,
      "outputs": []
    },
    {
      "cell_type": "markdown",
      "source": [
        "**Merge headlines and description of new dataset and name it info**"
      ],
      "metadata": {
        "id": "MdsH1PUtMUyV"
      }
    },
    {
      "cell_type": "code",
      "execution_count": 48,
      "metadata": {
        "id": "HOSweU4mzTgq"
      },
      "outputs": [],
      "source": [
        "df_concatened_d['info'] = df_concatened_d['Headlines'] + ' ' + df_concatened_d['Description']"
      ]
    },
    {
      "cell_type": "markdown",
      "source": [
        "**Only keep info and time column . drop all remaining columns**"
      ],
      "metadata": {
        "id": "6OKcTz08M6tK"
      }
    },
    {
      "cell_type": "code",
      "execution_count": 49,
      "metadata": {
        "id": "_ZTFzLcGzTb3"
      },
      "outputs": [],
      "source": [
        "df_concatened_d.drop(['Headlines', 'Description', 'ds_score'], axis = 1, inplace = True)"
      ]
    },
    {
      "cell_type": "markdown",
      "source": [
        "**Apply preprocessing on info column**"
      ],
      "metadata": {
        "id": "8flEB9bPNABv"
      }
    },
    {
      "cell_type": "code",
      "execution_count": 50,
      "metadata": {
        "id": "iMOW0ljOzTaN"
      },
      "outputs": [],
      "source": [
        "df_concatened_d['info'] = df_concatened_d['info'].apply(lambda x : preprocess(x))"
      ]
    },
    {
      "cell_type": "markdown",
      "source": [
        "**Analyze polarity score of values in info and  add new column of it in dataset**"
      ],
      "metadata": {
        "id": "0fPTgBuLNHh5"
      }
    },
    {
      "cell_type": "code",
      "execution_count": 51,
      "metadata": {
        "id": "Bww_M5RQzTXm"
      },
      "outputs": [],
      "source": [
        "df_concatened_d['ds_score_info'] = df_concatened_d['info'].apply(lambda x: polarity(x))"
      ]
    },
    {
      "cell_type": "markdown",
      "source": [
        "**Apply the function  which decides sentiment to  polarity score column**"
      ],
      "metadata": {
        "id": "MB8QBBmuNLR7"
      }
    },
    {
      "cell_type": "code",
      "execution_count": 52,
      "metadata": {
        "id": "duwvemaLzTWh"
      },
      "outputs": [],
      "source": [
        "df_concatened_d['ds_score_info'] = df_concatened_d['ds_score_info'].apply(lambda x : assign_sentiment(x))"
      ]
    },
    {
      "cell_type": "code",
      "source": [
        "df_concatened_d.head()"
      ],
      "metadata": {
        "id": "yMPsTaKsRhk1"
      },
      "execution_count": null,
      "outputs": []
    },
    {
      "cell_type": "markdown",
      "source": [
        "**Create a count plot on info_score column**"
      ],
      "metadata": {
        "id": "WN2Sc-5rNOTU"
      }
    },
    {
      "cell_type": "code",
      "execution_count": 53,
      "metadata": {
        "colab": {
          "base_uri": "https://localhost:8080/",
          "height": 297
        },
        "id": "ohPDx_0glaeM",
        "outputId": "c507b669-b4dd-4581-9963-af69a23e0333"
      },
      "outputs": [
        {
          "output_type": "execute_result",
          "data": {
            "text/plain": [
              "<matplotlib.axes._subplots.AxesSubplot at 0x7fbd2ba6e940>"
            ]
          },
          "metadata": {},
          "execution_count": 53
        },
        {
          "output_type": "display_data",
          "data": {
            "text/plain": [
              "<Figure size 432x288 with 1 Axes>"
            ],
            "image/png": "[encoded data removed]"
          },
          "metadata": {
            "needs_background": "light"
          }
        }
      ],
      "source": [
        "sns.countplot(df_concatened_d['ds_score_info'])"
      ]
    },
    {
      "cell_type": "markdown",
      "metadata": {
        "id": "svGQaSfhl6_5"
      },
      "source": [
        "**Observation:**\n",
        "* Headlines & Descriptions contains approximatley:\n",
        "  * 15500 positive statment\n",
        "  * 13000 negative statment\n",
        "  * 6500 neutral statment"
      ]
    },
    {
      "cell_type": "markdown",
      "source": [
        "**Create a  pie chart on info_score column**  "
      ],
      "metadata": {
        "id": "AxamdzJcNTHu"
      }
    },
    {
      "cell_type": "code",
      "execution_count": 54,
      "metadata": {
        "colab": {
          "base_uri": "https://localhost:8080/",
          "height": 303
        },
        "id": "BNaH0yfFll7Z",
        "outputId": "39330b91-8b8a-43ca-ce09-4baa0c21c030"
      },
      "outputs": [
        {
          "output_type": "display_data",
          "data": {
            "text/plain": [
              "<Figure size 1440x360 with 1 Axes>"
            ],
            "image/png": "[encoded data removed]"
          },
          "metadata": {}
        }
      ],
      "source": [
        "# plotting data on chart\n",
        "plt.figure(figsize = (20,5))\n",
        "plt.pie(df_concatened_d['ds_score_info'].value_counts(normalize = True), autopct='%.2f%%')\n",
        "plt.legend(['Positive', 'Negative', 'Neutral'])\n",
        "# displaying chart\n",
        "plt.show()"
      ]
    },
    {
      "cell_type": "markdown",
      "metadata": {
        "id": "e0JsgArfmgi-"
      },
      "source": [
        "**Observation:**\n",
        "* Headlines & Descriptions contains:\n",
        "  * 44.5 % positive statments\n",
        "  * 38.36 % negtive statements\n",
        "  * 17.10 % neutral statments"
      ]
    },
    {
      "cell_type": "markdown",
      "source": [
        "### **Spliting in Independent and Dependent Features**"
      ],
      "metadata": {
        "id": "yQckkiB_su2a"
      }
    },
    {
      "cell_type": "code",
      "source": [
        "X = df_concatened_d['info']\n",
        "y = df_concatened_d['ds_score_info']"
      ],
      "metadata": {
        "id": "0OEOaw0Psu2b"
      },
      "execution_count": 55,
      "outputs": []
    },
    {
      "cell_type": "markdown",
      "source": [
        "### **Train test split**\n",
        "* Split the dataset  into test and train \n",
        "* 90% train , 10% test and random state 212"
      ],
      "metadata": {
        "id": "IGVRLnaENuMP"
      }
    },
    {
      "cell_type": "code",
      "execution_count": 56,
      "metadata": {
        "id": "c_ttLtB9su2c"
      },
      "outputs": [],
      "source": [
        "X_train, X_test, y_train, y_test = train_test_split(X, y, test_size=0.10, random_state = 212)"
      ]
    },
    {
      "cell_type": "markdown",
      "metadata": {
        "id": "dSzkwrgRsbnd"
      },
      "source": [
        "## **Modelling on headlines + description of cnbc and reuters datasets** "
      ]
    },
    {
      "cell_type": "code",
      "source": [
        "'''All Models'''\n",
        "models = {\n",
        "1 : make_pipeline(TfidfVectorizer(),LinearSVC(random_state=0, tol=1e-5)),\n",
        "2 : make_pipeline(CountVectorizer(),TfidfTransformer(),LogisticRegression()),\n",
        "3 : make_pipeline(CountVectorizer(),TfidfTransformer(),MultinomialNB()),\n",
        "4 : make_pipeline(CountVectorizer(),TfidfTransformer(),BernoulliNB()),\n",
        "5 : make_pipeline(CountVectorizer(),TfidfTransformer(),GradientBoostingClassifier()),\n",
        "6 : make_pipeline(CountVectorizer(),TfidfTransformer(),xg.XGBClassifier()),\n",
        "7 : make_pipeline(CountVectorizer(),TfidfTransformer(),DecisionTreeClassifier()),\n",
        "8 : make_pipeline(CountVectorizer(),TfidfTransformer(),KNeighborsClassifier())\n",
        "}\n",
        "\n",
        "map_keys = list(models.keys())"
      ],
      "metadata": {
        "id": "-Ruh-5ALsbne"
      },
      "execution_count": 57,
      "outputs": []
    },
    {
      "cell_type": "code",
      "source": [
        "def get_model_building_technique_name(num):\n",
        "  if num == 1:\n",
        "    return 'LinearSVC'\n",
        "  if num == 2:\n",
        "    return 'LogisticRegression'\n",
        "  if num == 3:\n",
        "    return 'MultinomialNB'\n",
        "  if num == 4:\n",
        "    return 'BernoulliNB'\n",
        "  if num == 5:\n",
        "    return 'GradientBoostingClassifier'\n",
        "  if num == 6:\n",
        "    return 'XGBClassifier'\n",
        "  if num == 7:\n",
        "    return 'DecisionTreeClassifier'\n",
        "  if num == 8:\n",
        "    return 'KNeighborsClassifier'\n",
        "  return ''\n",
        "     "
      ],
      "metadata": {
        "id": "JtVa0Wyisbne"
      },
      "execution_count": 58,
      "outputs": []
    },
    {
      "cell_type": "code",
      "source": [
        "results = [];\n",
        "for key_index in range(len(map_keys)):\n",
        "  try:\n",
        "    key = map_keys[key_index]\n",
        "    model = models[key]\n",
        "    print(key)\n",
        "    model.fit(X_train, y_train)\n",
        "\n",
        "    '''Test Accuracy'''\n",
        "    y_pred = model.predict(X_test)\n",
        "\n",
        "    Accuracy_Test = accuracy_score(y_test, y_pred)\n",
        "    conf_mat_Test = confusion_matrix(y_test, y_pred)\n",
        "    true_positive_Test = conf_mat_Test[0][0]\n",
        "    false_positive_Test = conf_mat_Test[0][1]\n",
        "    false_negative_Test = conf_mat_Test[1][0]\n",
        "    true_negative__Test = conf_mat_Test[1][1]\n",
        "    Precision_Test = true_positive_Test /(true_positive_Test + false_positive_Test)\n",
        "    Recall_Test = true_positive_Test/(true_positive_Test + false_negative_Test)\n",
        "    F1_Score_Test = 2*(Recall_Test * Precision_Test) / (Recall_Test + Precision_Test)\n",
        "    # AUC_Test = roc_auc_score(y_test, y_pred)\n",
        "\n",
        "    '''Train Accuracy'''\n",
        "    y_pred_train = model.predict(X_train)\n",
        "\n",
        "    Accuracy_Train = accuracy_score(y_train, y_pred_train)\n",
        "    conf_mat_Train = confusion_matrix(y_train, y_pred_train)\n",
        "    true_positive_Train = conf_mat_Train[0][0]\n",
        "    false_positive_Train = conf_mat_Train[0][1]\n",
        "    false_negative_Train = conf_mat_Train[1][0]\n",
        "    true_negative__Train = conf_mat_Train[1][1]\n",
        "    Precision_Train = true_positive_Train /(true_positive_Train + false_positive_Train)\n",
        "    Recall_Train = true_positive_Train/(true_positive_Train + false_negative_Train)\n",
        "    F1_Score_Train = 2*(Recall_Train * Precision_Train) / (Recall_Train + Precision_Train)\n",
        "    # AUC_Train = roc_auc_score(y_train, y_pred_train)\n",
        "\n",
        "    results.append({\n",
        "        'Model Name' : get_model_building_technique_name(key),\n",
        "        'Trained Model' : model,\n",
        "        'Accuracy_Test' : Accuracy_Test,\n",
        "        'Precision_Test' : Precision_Test,\n",
        "        'Recall_Test' : Recall_Test, \n",
        "        'F1_Score_Test' : F1_Score_Test, \n",
        "        # 'AUC_Test' : AUC_Test,\n",
        "        'Accuracy_Train' : Accuracy_Train,\n",
        "        'Precision_Train' : Precision_Train,\n",
        "        'Recall_Train' : Recall_Train, \n",
        "        'F1_Score_Train' : F1_Score_Train \n",
        "        # 'AUC_Train' : AUC_Train\n",
        "        })\n",
        "  except:\n",
        "    print('Error')"
      ],
      "metadata": {
        "colab": {
          "base_uri": "https://localhost:8080/"
        },
        "outputId": "83f1eb9d-c9c9-4dba-b17c-944c4a2f1b7c",
        "id": "YRbns586sbne"
      },
      "execution_count": 59,
      "outputs": [
        {
          "output_type": "stream",
          "name": "stdout",
          "text": [
            "1\n",
            "2\n",
            "3\n",
            "4\n",
            "5\n",
            "6\n",
            "7\n",
            "8\n"
          ]
        }
      ]
    },
    {
      "cell_type": "code",
      "source": [
        "result_df = pd.DataFrame(results)\n",
        "result_df['difference_f1_score'] = abs(result_df['F1_Score_Test'] - result_df['F1_Score_Train'])\n",
        "# result_df_test = result_df.iloc[: , [0,2,3,4,5]]\n",
        "# result_df_train = result_df.iloc[: , [0,6,7,8,9]]\n",
        "result_df"
      ],
      "metadata": {
        "colab": {
          "base_uri": "https://localhost:8080/",
          "height": 483
        },
        "outputId": "31f4190d-af0c-40e0-834a-ea8b9c35ebfb",
        "id": "vQMzOIgasbnf"
      },
      "execution_count": 60,
      "outputs": [
        {
          "output_type": "execute_result",
          "data": {
            "text/plain": [
              "                   Model Name  \\\n",
              "0                   LinearSVC   \n",
              "1          LogisticRegression   \n",
              "2               MultinomialNB   \n",
              "3                 BernoulliNB   \n",
              "4  GradientBoostingClassifier   \n",
              "5               XGBClassifier   \n",
              "6      DecisionTreeClassifier   \n",
              "7        KNeighborsClassifier   \n",
              "\n",
              "                                       Trained Model  Accuracy_Test  \\\n",
              "0  (TfidfVectorizer(), LinearSVC(random_state=0, ...       0.901464   \n",
              "1  (CountVectorizer(), TfidfTransformer(), Logist...       0.870777   \n",
              "2  (CountVectorizer(), TfidfTransformer(), Multin...       0.668919   \n",
              "3  (CountVectorizer(), TfidfTransformer(), Bernou...       0.719313   \n",
              "4  (CountVectorizer(), TfidfTransformer(), ([Deci...       0.720439   \n",
              "5  (CountVectorizer(), TfidfTransformer(), XGBCla...       0.684403   \n",
              "6  (CountVectorizer(), TfidfTransformer(), Decisi...       0.834741   \n",
              "7  (CountVectorizer(), TfidfTransformer(), KNeigh...       0.562218   \n",
              "\n",
              "   Precision_Test  Recall_Test  F1_Score_Test  Accuracy_Train  \\\n",
              "0        0.961875     0.968026       0.964940        0.983950   \n",
              "1        0.963533     0.936220       0.949681        0.939868   \n",
              "2        1.000000     0.855864       0.922335        0.717486   \n",
              "3        0.955366     0.878603       0.915378        0.811032   \n",
              "4        0.975075     0.995927       0.985390        0.738979   \n",
              "5        1.000000     0.995722       0.997856        0.692207   \n",
              "6        0.970776     0.980627       0.975677        1.000000   \n",
              "7        0.881373     0.798401       0.837838        0.703407   \n",
              "\n",
              "   Precision_Train  Recall_Train  F1_Score_Train  difference_f1_score  \n",
              "0         0.998019      0.993263        0.995635             0.030695  \n",
              "1         0.985091      0.975645        0.980345             0.030665  \n",
              "2         0.999682      0.867905        0.929145             0.006810  \n",
              "3         0.968690      0.929815        0.948855             0.033477  \n",
              "4         0.983230      0.992881        0.988032             0.002642  \n",
              "5         1.000000      0.992188        0.996079             0.001778  \n",
              "6         1.000000      1.000000        1.000000             0.024323  \n",
              "7         0.937659      0.850832        0.892138             0.054300  "
            ],
            "text/html": [
              "\n",
              "  <div id=\"df-52a8a63c-d47e-4cb8-8c85-fb64d28974f9\">\n",
              "    <div class=\"colab-df-container\">\n",
              "      <div>\n",
              "<style scoped>\n",
              "    .dataframe tbody tr th:only-of-type {\n",
              "        vertical-align: middle;\n",
              "    }\n",
              "\n",
              "    .dataframe tbody tr th {\n",
              "        vertical-align: top;\n",
              "    }\n",
              "\n",
              "    .dataframe thead th {\n",
              "        text-align: right;\n",
              "    }\n",
              "</style>\n",
              "<table border=\"1\" class=\"dataframe\">\n",
              "  <thead>\n",
              "    <tr style=\"text-align: right;\">\n",
              "      <th></th>\n",
              "      <th>Model Name</th>\n",
              "      <th>Trained Model</th>\n",
              "      <th>Accuracy_Test</th>\n",
              "      <th>Precision_Test</th>\n",
              "      <th>Recall_Test</th>\n",
              "      <th>F1_Score_Test</th>\n",
              "      <th>Accuracy_Train</th>\n",
              "      <th>Precision_Train</th>\n",
              "      <th>Recall_Train</th>\n",
              "      <th>F1_Score_Train</th>\n",
              "      <th>difference_f1_score</th>\n",
              "    </tr>\n",
              "  </thead>\n",
              "  <tbody>\n",
              "    <tr>\n",
              "      <th>0</th>\n",
              "      <td>LinearSVC</td>\n",
              "      <td>(TfidfVectorizer(), LinearSVC(random_state=0, ...</td>\n",
              "      <td>0.901464</td>\n",
              "      <td>0.961875</td>\n",
              "      <td>0.968026</td>\n",
              "      <td>0.964940</td>\n",
              "      <td>0.983950</td>\n",
              "      <td>0.998019</td>\n",
              "      <td>0.993263</td>\n",
              "      <td>0.995635</td>\n",
              "      <td>0.030695</td>\n",
              "    </tr>\n",
              "    <tr>\n",
              "      <th>1</th>\n",
              "      <td>LogisticRegression</td>\n",
              "      <td>(CountVectorizer(), TfidfTransformer(), Logist...</td>\n",
              "      <td>0.870777</td>\n",
              "      <td>0.963533</td>\n",
              "      <td>0.936220</td>\n",
              "      <td>0.949681</td>\n",
              "      <td>0.939868</td>\n",
              "      <td>0.985091</td>\n",
              "      <td>0.975645</td>\n",
              "      <td>0.980345</td>\n",
              "      <td>0.030665</td>\n",
              "    </tr>\n",
              "    <tr>\n",
              "      <th>2</th>\n",
              "      <td>MultinomialNB</td>\n",
              "      <td>(CountVectorizer(), TfidfTransformer(), Multin...</td>\n",
              "      <td>0.668919</td>\n",
              "      <td>1.000000</td>\n",
              "      <td>0.855864</td>\n",
              "      <td>0.922335</td>\n",
              "      <td>0.717486</td>\n",
              "      <td>0.999682</td>\n",
              "      <td>0.867905</td>\n",
              "      <td>0.929145</td>\n",
              "      <td>0.006810</td>\n",
              "    </tr>\n",
              "    <tr>\n",
              "      <th>3</th>\n",
              "      <td>BernoulliNB</td>\n",
              "      <td>(CountVectorizer(), TfidfTransformer(), Bernou...</td>\n",
              "      <td>0.719313</td>\n",
              "      <td>0.955366</td>\n",
              "      <td>0.878603</td>\n",
              "      <td>0.915378</td>\n",
              "      <td>0.811032</td>\n",
              "      <td>0.968690</td>\n",
              "      <td>0.929815</td>\n",
              "      <td>0.948855</td>\n",
              "      <td>0.033477</td>\n",
              "    </tr>\n",
              "    <tr>\n",
              "      <th>4</th>\n",
              "      <td>GradientBoostingClassifier</td>\n",
              "      <td>(CountVectorizer(), TfidfTransformer(), ([Deci...</td>\n",
              "      <td>0.720439</td>\n",
              "      <td>0.975075</td>\n",
              "      <td>0.995927</td>\n",
              "      <td>0.985390</td>\n",
              "      <td>0.738979</td>\n",
              "      <td>0.983230</td>\n",
              "      <td>0.992881</td>\n",
              "      <td>0.988032</td>\n",
              "      <td>0.002642</td>\n",
              "    </tr>\n",
              "    <tr>\n",
              "      <th>5</th>\n",
              "      <td>XGBClassifier</td>\n",
              "      <td>(CountVectorizer(), TfidfTransformer(), XGBCla...</td>\n",
              "      <td>0.684403</td>\n",
              "      <td>1.000000</td>\n",
              "      <td>0.995722</td>\n",
              "      <td>0.997856</td>\n",
              "      <td>0.692207</td>\n",
              "      <td>1.000000</td>\n",
              "      <td>0.992188</td>\n",
              "      <td>0.996079</td>\n",
              "      <td>0.001778</td>\n",
              "    </tr>\n",
              "    <tr>\n",
              "      <th>6</th>\n",
              "      <td>DecisionTreeClassifier</td>\n",
              "      <td>(CountVectorizer(), TfidfTransformer(), Decisi...</td>\n",
              "      <td>0.834741</td>\n",
              "      <td>0.970776</td>\n",
              "      <td>0.980627</td>\n",
              "      <td>0.975677</td>\n",
              "      <td>1.000000</td>\n",
              "      <td>1.000000</td>\n",
              "      <td>1.000000</td>\n",
              "      <td>1.000000</td>\n",
              "      <td>0.024323</td>\n",
              "    </tr>\n",
              "    <tr>\n",
              "      <th>7</th>\n",
              "      <td>KNeighborsClassifier</td>\n",
              "      <td>(CountVectorizer(), TfidfTransformer(), KNeigh...</td>\n",
              "      <td>0.562218</td>\n",
              "      <td>0.881373</td>\n",
              "      <td>0.798401</td>\n",
              "      <td>0.837838</td>\n",
              "      <td>0.703407</td>\n",
              "      <td>0.937659</td>\n",
              "      <td>0.850832</td>\n",
              "      <td>0.892138</td>\n",
              "      <td>0.054300</td>\n",
              "    </tr>\n",
              "  </tbody>\n",
              "</table>\n",
              "</div>\n",
              "      <button class=\"colab-df-convert\" onclick=\"convertToInteractive('df-52a8a63c-d47e-4cb8-8c85-fb64d28974f9')\"\n",
              "              title=\"Convert this dataframe to an interactive table.\"\n",
              "              style=\"display:none;\">\n",
              "        \n",
              "  <svg xmlns=\"http://www.w3.org/2000/svg\" height=\"24px\"viewBox=\"0 0 24 24\"\n",
              "       width=\"24px\">\n",
              "    <path d=\"M0 0h24v24H0V0z\" fill=\"none\"/>\n",
              "    <path d=\"M18.56 5.44l.94 2.06.94-2.06 2.06-.94-2.06-.94-.94-2.06-.94 2.06-2.06.94zm-11 1L8.5 8.5l.94-2.06 2.06-.94-2.06-.94L8.5 2.5l-.94 2.06-2.06.94zm10 10l.94 2.06.94-2.06 2.06-.94-2.06-.94-.94-2.06-.94 2.06-2.06.94z\"/><path d=\"M17.41 7.96l-1.37-1.37c-.4-.4-.92-.59-1.43-.59-.52 0-1.04.2-1.43.59L10.3 9.45l-7.72 7.72c-.78.78-.78 2.05 0 2.83L4 21.41c.39.39.9.59 1.41.59.51 0 1.02-.2 1.41-.59l7.78-7.78 2.81-2.81c.8-.78.8-2.07 0-2.86zM5.41 20L4 18.59l7.72-7.72 1.47 1.35L5.41 20z\"/>\n",
              "  </svg>\n",
              "      </button>\n",
              "      \n",
              "  <style>\n",
              "    .colab-df-container {\n",
              "      display:flex;\n",
              "      flex-wrap:wrap;\n",
              "      gap: 12px;\n",
              "    }\n",
              "\n",
              "    .colab-df-convert {\n",
              "      background-color: #E8F0FE;\n",
              "      border: none;\n",
              "      border-radius: 50%;\n",
              "      cursor: pointer;\n",
              "      display: none;\n",
              "      fill: #1967D2;\n",
              "      height: 32px;\n",
              "      padding: 0 0 0 0;\n",
              "      width: 32px;\n",
              "    }\n",
              "\n",
              "    .colab-df-convert:hover {\n",
              "      background-color: #E2EBFA;\n",
              "      box-shadow: 0px 1px 2px rgba(60, 64, 67, 0.3), 0px 1px 3px 1px rgba(60, 64, 67, 0.15);\n",
              "      fill: #174EA6;\n",
              "    }\n",
              "\n",
              "    [theme=dark] .colab-df-convert {\n",
              "      background-color: #3B4455;\n",
              "      fill: #D2E3FC;\n",
              "    }\n",
              "\n",
              "    [theme=dark] .colab-df-convert:hover {\n",
              "      background-color: #434B5C;\n",
              "      box-shadow: 0px 1px 3px 1px rgba(0, 0, 0, 0.15);\n",
              "      filter: drop-shadow(0px 1px 2px rgba(0, 0, 0, 0.3));\n",
              "      fill: #FFFFFF;\n",
              "    }\n",
              "  </style>\n",
              "\n",
              "      <script>\n",
              "        const buttonEl =\n",
              "          document.querySelector('#df-52a8a63c-d47e-4cb8-8c85-fb64d28974f9 button.colab-df-convert');\n",
              "        buttonEl.style.display =\n",
              "          google.colab.kernel.accessAllowed ? 'block' : 'none';\n",
              "\n",
              "        async function convertToInteractive(key) {\n",
              "          const element = document.querySelector('#df-52a8a63c-d47e-4cb8-8c85-fb64d28974f9');\n",
              "          const dataTable =\n",
              "            await google.colab.kernel.invokeFunction('convertToInteractive',\n",
              "                                                     [key], {});\n",
              "          if (!dataTable) return;\n",
              "\n",
              "          const docLinkHtml = 'Like what you see? Visit the ' +\n",
              "            '<a target=\"_blank\" href=https://colab.research.google.com/notebooks/data_table.ipynb>data table notebook</a>'\n",
              "            + ' to learn more about interactive tables.';\n",
              "          element.innerHTML = '';\n",
              "          dataTable['output_type'] = 'display_data';\n",
              "          await google.colab.output.renderOutput(dataTable, element);\n",
              "          const docLink = document.createElement('div');\n",
              "          docLink.innerHTML = docLinkHtml;\n",
              "          element.appendChild(docLink);\n",
              "        }\n",
              "      </script>\n",
              "    </div>\n",
              "  </div>\n",
              "  "
            ]
          },
          "metadata": {},
          "execution_count": 60
        }
      ]
    },
    {
      "cell_type": "markdown",
      "source": [
        "**Save Best Model**"
      ],
      "metadata": {
        "id": "TOS7v5NWN6mr"
      }
    },
    {
      "cell_type": "code",
      "source": [
        "Best_Model_Name = result_df[result_df['difference_f1_score'] == min(result_df['difference_f1_score'])]['Trained Model'].values[0]\n",
        "import pickle\n",
        "with open('financial_news_model_hd.sav', 'wb') as best_model_pickle:\n",
        " pickle.dump(Best_Model_Name, best_model_pickle)"
      ],
      "metadata": {
        "id": "47Jw--0Wsbnf"
      },
      "execution_count": 61,
      "outputs": []
    },
    {
      "cell_type": "markdown",
      "metadata": {
        "id": "BfiyS-lXsbng"
      },
      "source": [
        "### **Working with test dataset**"
      ]
    },
    {
      "cell_type": "markdown",
      "source": [
        "**Perforn the prediction on the test dataset**"
      ],
      "metadata": {
        "id": "RQQIiZnZOQjH"
      }
    },
    {
      "cell_type": "code",
      "execution_count": 62,
      "metadata": {
        "colab": {
          "base_uri": "https://localhost:8080/",
          "height": 424
        },
        "outputId": "59f7db84-8f77-419b-d744-cb1fcdb9b665",
        "id": "guvGjdjCsbng"
      },
      "outputs": [
        {
          "output_type": "execute_result",
          "data": {
            "text/plain": [
              "             0\n",
              "0     Negative\n",
              "1     Positive\n",
              "2     Positive\n",
              "3     Positive\n",
              "4     Positive\n",
              "...        ...\n",
              "3547  Negative\n",
              "3548  Positive\n",
              "3549  Positive\n",
              "3550  Positive\n",
              "3551  Positive\n",
              "\n",
              "[3552 rows x 1 columns]"
            ],
            "text/html": [
              "\n",
              "  <div id=\"df-3d660fad-a51f-403b-8e2e-ee0112c67c5e\">\n",
              "    <div class=\"colab-df-container\">\n",
              "      <div>\n",
              "<style scoped>\n",
              "    .dataframe tbody tr th:only-of-type {\n",
              "        vertical-align: middle;\n",
              "    }\n",
              "\n",
              "    .dataframe tbody tr th {\n",
              "        vertical-align: top;\n",
              "    }\n",
              "\n",
              "    .dataframe thead th {\n",
              "        text-align: right;\n",
              "    }\n",
              "</style>\n",
              "<table border=\"1\" class=\"dataframe\">\n",
              "  <thead>\n",
              "    <tr style=\"text-align: right;\">\n",
              "      <th></th>\n",
              "      <th>0</th>\n",
              "    </tr>\n",
              "  </thead>\n",
              "  <tbody>\n",
              "    <tr>\n",
              "      <th>0</th>\n",
              "      <td>Negative</td>\n",
              "    </tr>\n",
              "    <tr>\n",
              "      <th>1</th>\n",
              "      <td>Positive</td>\n",
              "    </tr>\n",
              "    <tr>\n",
              "      <th>2</th>\n",
              "      <td>Positive</td>\n",
              "    </tr>\n",
              "    <tr>\n",
              "      <th>3</th>\n",
              "      <td>Positive</td>\n",
              "    </tr>\n",
              "    <tr>\n",
              "      <th>4</th>\n",
              "      <td>Positive</td>\n",
              "    </tr>\n",
              "    <tr>\n",
              "      <th>...</th>\n",
              "      <td>...</td>\n",
              "    </tr>\n",
              "    <tr>\n",
              "      <th>3547</th>\n",
              "      <td>Negative</td>\n",
              "    </tr>\n",
              "    <tr>\n",
              "      <th>3548</th>\n",
              "      <td>Positive</td>\n",
              "    </tr>\n",
              "    <tr>\n",
              "      <th>3549</th>\n",
              "      <td>Positive</td>\n",
              "    </tr>\n",
              "    <tr>\n",
              "      <th>3550</th>\n",
              "      <td>Positive</td>\n",
              "    </tr>\n",
              "    <tr>\n",
              "      <th>3551</th>\n",
              "      <td>Positive</td>\n",
              "    </tr>\n",
              "  </tbody>\n",
              "</table>\n",
              "<p>3552 rows × 1 columns</p>\n",
              "</div>\n",
              "      <button class=\"colab-df-convert\" onclick=\"convertToInteractive('df-3d660fad-a51f-403b-8e2e-ee0112c67c5e')\"\n",
              "              title=\"Convert this dataframe to an interactive table.\"\n",
              "              style=\"display:none;\">\n",
              "        \n",
              "  <svg xmlns=\"http://www.w3.org/2000/svg\" height=\"24px\"viewBox=\"0 0 24 24\"\n",
              "       width=\"24px\">\n",
              "    <path d=\"M0 0h24v24H0V0z\" fill=\"none\"/>\n",
              "    <path d=\"M18.56 5.44l.94 2.06.94-2.06 2.06-.94-2.06-.94-.94-2.06-.94 2.06-2.06.94zm-11 1L8.5 8.5l.94-2.06 2.06-.94-2.06-.94L8.5 2.5l-.94 2.06-2.06.94zm10 10l.94 2.06.94-2.06 2.06-.94-2.06-.94-.94-2.06-.94 2.06-2.06.94z\"/><path d=\"M17.41 7.96l-1.37-1.37c-.4-.4-.92-.59-1.43-.59-.52 0-1.04.2-1.43.59L10.3 9.45l-7.72 7.72c-.78.78-.78 2.05 0 2.83L4 21.41c.39.39.9.59 1.41.59.51 0 1.02-.2 1.41-.59l7.78-7.78 2.81-2.81c.8-.78.8-2.07 0-2.86zM5.41 20L4 18.59l7.72-7.72 1.47 1.35L5.41 20z\"/>\n",
              "  </svg>\n",
              "      </button>\n",
              "      \n",
              "  <style>\n",
              "    .colab-df-container {\n",
              "      display:flex;\n",
              "      flex-wrap:wrap;\n",
              "      gap: 12px;\n",
              "    }\n",
              "\n",
              "    .colab-df-convert {\n",
              "      background-color: #E8F0FE;\n",
              "      border: none;\n",
              "      border-radius: 50%;\n",
              "      cursor: pointer;\n",
              "      display: none;\n",
              "      fill: #1967D2;\n",
              "      height: 32px;\n",
              "      padding: 0 0 0 0;\n",
              "      width: 32px;\n",
              "    }\n",
              "\n",
              "    .colab-df-convert:hover {\n",
              "      background-color: #E2EBFA;\n",
              "      box-shadow: 0px 1px 2px rgba(60, 64, 67, 0.3), 0px 1px 3px 1px rgba(60, 64, 67, 0.15);\n",
              "      fill: #174EA6;\n",
              "    }\n",
              "\n",
              "    [theme=dark] .colab-df-convert {\n",
              "      background-color: #3B4455;\n",
              "      fill: #D2E3FC;\n",
              "    }\n",
              "\n",
              "    [theme=dark] .colab-df-convert:hover {\n",
              "      background-color: #434B5C;\n",
              "      box-shadow: 0px 1px 3px 1px rgba(0, 0, 0, 0.15);\n",
              "      filter: drop-shadow(0px 1px 2px rgba(0, 0, 0, 0.3));\n",
              "      fill: #FFFFFF;\n",
              "    }\n",
              "  </style>\n",
              "\n",
              "      <script>\n",
              "        const buttonEl =\n",
              "          document.querySelector('#df-3d660fad-a51f-403b-8e2e-ee0112c67c5e button.colab-df-convert');\n",
              "        buttonEl.style.display =\n",
              "          google.colab.kernel.accessAllowed ? 'block' : 'none';\n",
              "\n",
              "        async function convertToInteractive(key) {\n",
              "          const element = document.querySelector('#df-3d660fad-a51f-403b-8e2e-ee0112c67c5e');\n",
              "          const dataTable =\n",
              "            await google.colab.kernel.invokeFunction('convertToInteractive',\n",
              "                                                     [key], {});\n",
              "          if (!dataTable) return;\n",
              "\n",
              "          const docLinkHtml = 'Like what you see? Visit the ' +\n",
              "            '<a target=\"_blank\" href=https://colab.research.google.com/notebooks/data_table.ipynb>data table notebook</a>'\n",
              "            + ' to learn more about interactive tables.';\n",
              "          element.innerHTML = '';\n",
              "          dataTable['output_type'] = 'display_data';\n",
              "          await google.colab.output.renderOutput(dataTable, element);\n",
              "          const docLink = document.createElement('div');\n",
              "          docLink.innerHTML = docLinkHtml;\n",
              "          element.appendChild(docLink);\n",
              "        }\n",
              "      </script>\n",
              "    </div>\n",
              "  </div>\n",
              "  "
            ]
          },
          "metadata": {},
          "execution_count": 62
        }
      ],
      "source": [
        "# Perforn the prediction on the test dataset\n",
        "best_model_hd = pickle.load(open('financial_news_model_hd.sav', 'rb'))\n",
        "result = best_model_hd.predict(X_test)\n",
        "pd.DataFrame(result)"
      ]
    },
    {
      "cell_type": "markdown",
      "metadata": {
        "id": "VOS21GT-gOzH"
      },
      "source": [
        "# **Working on headlines of cnbc, reuters and guardian datasets**"
      ]
    },
    {
      "cell_type": "markdown",
      "source": [
        "**From the dataset you have copied before delete the column of description**"
      ],
      "metadata": {
        "id": "o6bAVEiEPrKh"
      }
    },
    {
      "cell_type": "code",
      "execution_count": 63,
      "metadata": {
        "id": "wFmAITs64xzF"
      },
      "outputs": [],
      "source": [
        "df_concatened_d_copied = df_concatened_d_copied.drop(['Description'], axis = 1)\n",
        "df_concatened_d_copied = df_concatened_d_copied.drop(['ds_score'], axis = 1)"
      ]
    },
    {
      "cell_type": "markdown",
      "source": [
        "**Concatenate the gaurdian headlines dataset and  copy of dataset to get all headlines together**"
      ],
      "metadata": {
        "id": "p1iZNA8CQAsJ"
      }
    },
    {
      "cell_type": "code",
      "execution_count": 65,
      "metadata": {
        "id": "7PmKhFHl4xs-"
      },
      "outputs": [],
      "source": [
        "df_concatened_h = pd.concat([df_guardian,df_concatened_d_copied], axis = 0).reset_index(drop = True)"
      ]
    },
    {
      "cell_type": "markdown",
      "source": [
        "**Check the shape of all headlines dataset**"
      ],
      "metadata": {
        "id": "ZCXPZZDzQFtf"
      }
    },
    {
      "cell_type": "code",
      "execution_count": 66,
      "metadata": {
        "colab": {
          "base_uri": "https://localhost:8080/"
        },
        "id": "4b_DReQJ4xnw",
        "outputId": "ffe2e16a-fcbf-4588-935d-2d8c513feb11"
      },
      "outputs": [
        {
          "output_type": "execute_result",
          "data": {
            "text/plain": [
              "(53315, 2)"
            ]
          },
          "metadata": {},
          "execution_count": 66
        }
      ],
      "source": [
        "df_concatened_h.shape"
      ]
    },
    {
      "cell_type": "markdown",
      "source": [
        "**Apply preprocessing to the headlines column in the new dataset**"
      ],
      "metadata": {
        "id": "VRH2CvDRQKzP"
      }
    },
    {
      "cell_type": "code",
      "execution_count": 67,
      "metadata": {
        "colab": {
          "base_uri": "https://localhost:8080/",
          "height": 424
        },
        "id": "Xn2AN-6MAgQE",
        "outputId": "6ab9cafe-ce37-4866-99b4-beacff2aaaad"
      },
      "outputs": [
        {
          "output_type": "execute_result",
          "data": {
            "text/plain": [
              "              Time                                          Headlines\n",
              "0        18-Jul-20                johnson ask santa christma recoveri\n",
              "1        18-Jul-20  ‘ fear worst ’ four grim tale work life upend ...\n",
              "2        18-Jul-20  five key area sunak must tackl serv econom rec...\n",
              "3        18-Jul-20  covid19 leav firm ‘ fatal illprepar ’ nodeal b...\n",
              "4        18-Jul-20  week patriarchi bacardi ladi vodka latest long...\n",
              "...            ...                                                ...\n",
              "53310  Mar 20 2018  malaysia say never hire british data firm cent...\n",
              "53311  Mar 20 2018  prosecutor search volkswagen headquart new emi...\n",
              "53312  Mar 20 2018            mcdonald set greenhous ga reduct target\n",
              "53313  Mar 20 2018  pratt whitney deliv spare a320neo engin soon i...\n",
              "53314  Mar 20 2018  uk alway consid way improv data law pm may spo...\n",
              "\n",
              "[53315 rows x 2 columns]"
            ],
            "text/html": [
              "\n",
              "  <div id=\"df-5c509792-5b4c-4fe6-9a14-566d9db44ba2\">\n",
              "    <div class=\"colab-df-container\">\n",
              "      <div>\n",
              "<style scoped>\n",
              "    .dataframe tbody tr th:only-of-type {\n",
              "        vertical-align: middle;\n",
              "    }\n",
              "\n",
              "    .dataframe tbody tr th {\n",
              "        vertical-align: top;\n",
              "    }\n",
              "\n",
              "    .dataframe thead th {\n",
              "        text-align: right;\n",
              "    }\n",
              "</style>\n",
              "<table border=\"1\" class=\"dataframe\">\n",
              "  <thead>\n",
              "    <tr style=\"text-align: right;\">\n",
              "      <th></th>\n",
              "      <th>Time</th>\n",
              "      <th>Headlines</th>\n",
              "    </tr>\n",
              "  </thead>\n",
              "  <tbody>\n",
              "    <tr>\n",
              "      <th>0</th>\n",
              "      <td>18-Jul-20</td>\n",
              "      <td>johnson ask santa christma recoveri</td>\n",
              "    </tr>\n",
              "    <tr>\n",
              "      <th>1</th>\n",
              "      <td>18-Jul-20</td>\n",
              "      <td>‘ fear worst ’ four grim tale work life upend ...</td>\n",
              "    </tr>\n",
              "    <tr>\n",
              "      <th>2</th>\n",
              "      <td>18-Jul-20</td>\n",
              "      <td>five key area sunak must tackl serv econom rec...</td>\n",
              "    </tr>\n",
              "    <tr>\n",
              "      <th>3</th>\n",
              "      <td>18-Jul-20</td>\n",
              "      <td>covid19 leav firm ‘ fatal illprepar ’ nodeal b...</td>\n",
              "    </tr>\n",
              "    <tr>\n",
              "      <th>4</th>\n",
              "      <td>18-Jul-20</td>\n",
              "      <td>week patriarchi bacardi ladi vodka latest long...</td>\n",
              "    </tr>\n",
              "    <tr>\n",
              "      <th>...</th>\n",
              "      <td>...</td>\n",
              "      <td>...</td>\n",
              "    </tr>\n",
              "    <tr>\n",
              "      <th>53310</th>\n",
              "      <td>Mar 20 2018</td>\n",
              "      <td>malaysia say never hire british data firm cent...</td>\n",
              "    </tr>\n",
              "    <tr>\n",
              "      <th>53311</th>\n",
              "      <td>Mar 20 2018</td>\n",
              "      <td>prosecutor search volkswagen headquart new emi...</td>\n",
              "    </tr>\n",
              "    <tr>\n",
              "      <th>53312</th>\n",
              "      <td>Mar 20 2018</td>\n",
              "      <td>mcdonald set greenhous ga reduct target</td>\n",
              "    </tr>\n",
              "    <tr>\n",
              "      <th>53313</th>\n",
              "      <td>Mar 20 2018</td>\n",
              "      <td>pratt whitney deliv spare a320neo engin soon i...</td>\n",
              "    </tr>\n",
              "    <tr>\n",
              "      <th>53314</th>\n",
              "      <td>Mar 20 2018</td>\n",
              "      <td>uk alway consid way improv data law pm may spo...</td>\n",
              "    </tr>\n",
              "  </tbody>\n",
              "</table>\n",
              "<p>53315 rows × 2 columns</p>\n",
              "</div>\n",
              "      <button class=\"colab-df-convert\" onclick=\"convertToInteractive('df-5c509792-5b4c-4fe6-9a14-566d9db44ba2')\"\n",
              "              title=\"Convert this dataframe to an interactive table.\"\n",
              "              style=\"display:none;\">\n",
              "        \n",
              "  <svg xmlns=\"http://www.w3.org/2000/svg\" height=\"24px\"viewBox=\"0 0 24 24\"\n",
              "       width=\"24px\">\n",
              "    <path d=\"M0 0h24v24H0V0z\" fill=\"none\"/>\n",
              "    <path d=\"M18.56 5.44l.94 2.06.94-2.06 2.06-.94-2.06-.94-.94-2.06-.94 2.06-2.06.94zm-11 1L8.5 8.5l.94-2.06 2.06-.94-2.06-.94L8.5 2.5l-.94 2.06-2.06.94zm10 10l.94 2.06.94-2.06 2.06-.94-2.06-.94-.94-2.06-.94 2.06-2.06.94z\"/><path d=\"M17.41 7.96l-1.37-1.37c-.4-.4-.92-.59-1.43-.59-.52 0-1.04.2-1.43.59L10.3 9.45l-7.72 7.72c-.78.78-.78 2.05 0 2.83L4 21.41c.39.39.9.59 1.41.59.51 0 1.02-.2 1.41-.59l7.78-7.78 2.81-2.81c.8-.78.8-2.07 0-2.86zM5.41 20L4 18.59l7.72-7.72 1.47 1.35L5.41 20z\"/>\n",
              "  </svg>\n",
              "      </button>\n",
              "      \n",
              "  <style>\n",
              "    .colab-df-container {\n",
              "      display:flex;\n",
              "      flex-wrap:wrap;\n",
              "      gap: 12px;\n",
              "    }\n",
              "\n",
              "    .colab-df-convert {\n",
              "      background-color: #E8F0FE;\n",
              "      border: none;\n",
              "      border-radius: 50%;\n",
              "      cursor: pointer;\n",
              "      display: none;\n",
              "      fill: #1967D2;\n",
              "      height: 32px;\n",
              "      padding: 0 0 0 0;\n",
              "      width: 32px;\n",
              "    }\n",
              "\n",
              "    .colab-df-convert:hover {\n",
              "      background-color: #E2EBFA;\n",
              "      box-shadow: 0px 1px 2px rgba(60, 64, 67, 0.3), 0px 1px 3px 1px rgba(60, 64, 67, 0.15);\n",
              "      fill: #174EA6;\n",
              "    }\n",
              "\n",
              "    [theme=dark] .colab-df-convert {\n",
              "      background-color: #3B4455;\n",
              "      fill: #D2E3FC;\n",
              "    }\n",
              "\n",
              "    [theme=dark] .colab-df-convert:hover {\n",
              "      background-color: #434B5C;\n",
              "      box-shadow: 0px 1px 3px 1px rgba(0, 0, 0, 0.15);\n",
              "      filter: drop-shadow(0px 1px 2px rgba(0, 0, 0, 0.3));\n",
              "      fill: #FFFFFF;\n",
              "    }\n",
              "  </style>\n",
              "\n",
              "      <script>\n",
              "        const buttonEl =\n",
              "          document.querySelector('#df-5c509792-5b4c-4fe6-9a14-566d9db44ba2 button.colab-df-convert');\n",
              "        buttonEl.style.display =\n",
              "          google.colab.kernel.accessAllowed ? 'block' : 'none';\n",
              "\n",
              "        async function convertToInteractive(key) {\n",
              "          const element = document.querySelector('#df-5c509792-5b4c-4fe6-9a14-566d9db44ba2');\n",
              "          const dataTable =\n",
              "            await google.colab.kernel.invokeFunction('convertToInteractive',\n",
              "                                                     [key], {});\n",
              "          if (!dataTable) return;\n",
              "\n",
              "          const docLinkHtml = 'Like what you see? Visit the ' +\n",
              "            '<a target=\"_blank\" href=https://colab.research.google.com/notebooks/data_table.ipynb>data table notebook</a>'\n",
              "            + ' to learn more about interactive tables.';\n",
              "          element.innerHTML = '';\n",
              "          dataTable['output_type'] = 'display_data';\n",
              "          await google.colab.output.renderOutput(dataTable, element);\n",
              "          const docLink = document.createElement('div');\n",
              "          docLink.innerHTML = docLinkHtml;\n",
              "          element.appendChild(docLink);\n",
              "        }\n",
              "      </script>\n",
              "    </div>\n",
              "  </div>\n",
              "  "
            ]
          },
          "metadata": {},
          "execution_count": 67
        }
      ],
      "source": [
        "df_concatened_h['Headlines'] = df_concatened_h['Headlines'].apply(lambda x : preprocess(x))\n",
        "df_concatened_h.head()"
      ]
    },
    {
      "cell_type": "markdown",
      "source": [
        "**Analyze polarity score of values in headlines and  add new column of it in dataset**"
      ],
      "metadata": {
        "id": "AlTe45TDQOqW"
      }
    },
    {
      "cell_type": "code",
      "execution_count": 68,
      "metadata": {
        "id": "EBdenfoGAgOL"
      },
      "outputs": [],
      "source": [
        "df_concatened_h['ds_score_headlines'] = df_concatened_h['Headlines'].apply(lambda x: polarity(x))"
      ]
    },
    {
      "cell_type": "markdown",
      "source": [
        "**Apply the function  which decides sentiment to  polarity score column**"
      ],
      "metadata": {
        "id": "i50yU4X7QbnL"
      }
    },
    {
      "cell_type": "code",
      "execution_count": 69,
      "metadata": {
        "id": "OexQKGBxAgKb"
      },
      "outputs": [],
      "source": [
        "df_concatened_h['ds_score_headlines'] = df_concatened_h['ds_score_headlines'].apply(lambda x : assign_sentiment(x))"
      ]
    },
    {
      "cell_type": "code",
      "source": [
        "df_concatened_h.head()"
      ],
      "metadata": {
        "id": "carm4k3NRm-v"
      },
      "execution_count": null,
      "outputs": []
    },
    {
      "cell_type": "markdown",
      "source": [
        "**Create a countplot on headline score column**"
      ],
      "metadata": {
        "id": "RMOSvjAPQfWV"
      }
    },
    {
      "cell_type": "code",
      "execution_count": 70,
      "metadata": {
        "colab": {
          "base_uri": "https://localhost:8080/",
          "height": 300
        },
        "id": "NiIoQpS1AgIg",
        "outputId": "2d2fd23d-54e0-4dfd-cd3c-adea7f3d7f07"
      },
      "outputs": [
        {
          "output_type": "execute_result",
          "data": {
            "text/plain": [
              "<matplotlib.axes._subplots.AxesSubplot at 0x7fbd2db9e280>"
            ]
          },
          "metadata": {},
          "execution_count": 70
        },
        {
          "output_type": "display_data",
          "data": {
            "text/plain": [
              "<Figure size 432x288 with 1 Axes>"
            ],
            "image/png": "[encoded data removed]"
          },
          "metadata": {
            "needs_background": "light"
          }
        }
      ],
      "source": [
        "sns.countplot(df_concatened_h['ds_score_headlines'])"
      ]
    },
    {
      "cell_type": "markdown",
      "metadata": {
        "id": "LDnyTYgCzzOs"
      },
      "source": [
        "**Observation:**\n",
        "* Headlines contains approximately:\n",
        "  * 14000 positive statment\n",
        "  * 16000 negative statment\n",
        "  * 24000 neutral statment"
      ]
    },
    {
      "cell_type": "markdown",
      "source": [
        "**Create a pie digram on headline score column**"
      ],
      "metadata": {
        "id": "fxMWH0VfQlGw"
      }
    },
    {
      "cell_type": "code",
      "execution_count": 71,
      "metadata": {
        "colab": {
          "base_uri": "https://localhost:8080/",
          "height": 303
        },
        "id": "0do52B-enPVe",
        "outputId": "5641e6e7-9f0a-4a26-94cf-9d3a1030976b"
      },
      "outputs": [
        {
          "output_type": "display_data",
          "data": {
            "text/plain": [
              "<Figure size 1440x360 with 1 Axes>"
            ],
            "image/png": "[encoded data removed]"
          },
          "metadata": {}
        }
      ],
      "source": [
        "# plotting data on chart\n",
        "plt.figure(figsize = (20,5))\n",
        "plt.pie(df_concatened_h['ds_score_headlines'].value_counts(normalize = True), autopct='%.2f%%')\n",
        "plt.legend(['Positive', 'Negative', 'Neutral'])\n",
        "# displaying chart\n",
        "plt.show()"
      ]
    },
    {
      "cell_type": "markdown",
      "metadata": {
        "id": "8kckcYtg0DW6"
      },
      "source": [
        "**Observation:**\n",
        "* Headlines contains:\n",
        "  * 24.8% positive statments\n",
        "  * 30.3% negtive statements\n",
        "  * 44.9% neutral statments"
      ]
    },
    {
      "cell_type": "markdown",
      "source": [
        "### **Spliting in Independent and Dependent Features**"
      ],
      "metadata": {
        "id": "DtEMPDK7Du7Y"
      }
    },
    {
      "cell_type": "code",
      "source": [
        "X = df_concatened_h['Headlines']\n",
        "y = df_concatened_h['ds_score_headlines']"
      ],
      "metadata": {
        "id": "2cvwgyklDu7Y"
      },
      "execution_count": 72,
      "outputs": []
    },
    {
      "cell_type": "markdown",
      "source": [
        "### **Train test split**\n",
        "* Split the dataset  into test and train \n",
        "* 90% train , 10% test and random state 212"
      ],
      "metadata": {
        "id": "62aSgqQ3Qv0j"
      }
    },
    {
      "cell_type": "code",
      "execution_count": 73,
      "metadata": {
        "id": "C02R4Bz6Du7Z"
      },
      "outputs": [],
      "source": [
        "X_train, X_test, y_train, y_test = train_test_split(X, y, test_size=0.10, random_state = 212)"
      ]
    },
    {
      "cell_type": "markdown",
      "metadata": {
        "id": "xldbLpNQgfG-"
      },
      "source": [
        "## **Modeling on headlines**"
      ]
    },
    {
      "cell_type": "code",
      "source": [
        "'''All Models'''\n",
        "models = {\n",
        "1 : make_pipeline(TfidfVectorizer(),LinearSVC(random_state=0, tol=1e-5)),\n",
        "2 : make_pipeline(CountVectorizer(),TfidfTransformer(),LogisticRegression()),\n",
        "3 : make_pipeline(CountVectorizer(),TfidfTransformer(),MultinomialNB()),\n",
        "4 : make_pipeline(CountVectorizer(),TfidfTransformer(),BernoulliNB()),\n",
        "5 : make_pipeline(CountVectorizer(),TfidfTransformer(),GradientBoostingClassifier()),\n",
        "6 : make_pipeline(CountVectorizer(),TfidfTransformer(),xg.XGBClassifier()),\n",
        "7 : make_pipeline(CountVectorizer(),TfidfTransformer(),DecisionTreeClassifier()),\n",
        "8 : make_pipeline(CountVectorizer(),TfidfTransformer(),KNeighborsClassifier())\n",
        "}\n",
        "\n",
        "map_keys = list(models.keys())"
      ],
      "metadata": {
        "id": "3VnGjeg5Du7Z"
      },
      "execution_count": 74,
      "outputs": []
    },
    {
      "cell_type": "code",
      "source": [
        "def get_model_building_technique_name(num):\n",
        "  if num == 1:\n",
        "    return 'LinearSVC'\n",
        "  if num == 2:\n",
        "    return 'LogisticRegression'\n",
        "  if num == 3:\n",
        "    return 'MultinomialNB'\n",
        "  if num == 4:\n",
        "    return 'BernoulliNB'\n",
        "  if num == 5:\n",
        "    return 'GradientBoostingClassifier'\n",
        "  if num == 6:\n",
        "    return 'XGBClassifier'\n",
        "  if num == 7:\n",
        "    return 'DecisionTreeClassifier'\n",
        "  if num == 8:\n",
        "    return 'KNeighborsClassifier'\n",
        "  return ''\n",
        "     "
      ],
      "metadata": {
        "id": "DFrFTwzcDu7a"
      },
      "execution_count": 75,
      "outputs": []
    },
    {
      "cell_type": "code",
      "source": [
        "results = [];\n",
        "for key_index in range(len(map_keys)):\n",
        "  try:\n",
        "    key = map_keys[key_index]\n",
        "    model = models[key]\n",
        "    print(key)\n",
        "    model.fit(X_train, y_train)\n",
        "\n",
        "    '''Test Accuracy'''\n",
        "    y_pred = model.predict(X_test)\n",
        "\n",
        "    Accuracy_Test = accuracy_score(y_test, y_pred)\n",
        "    conf_mat_Test = confusion_matrix(y_test, y_pred)\n",
        "    true_positive_Test = conf_mat_Test[0][0]\n",
        "    false_positive_Test = conf_mat_Test[0][1]\n",
        "    false_negative_Test = conf_mat_Test[1][0]\n",
        "    true_negative__Test = conf_mat_Test[1][1]\n",
        "    Precision_Test = true_positive_Test /(true_positive_Test + false_positive_Test)\n",
        "    Recall_Test = true_positive_Test/(true_positive_Test + false_negative_Test)\n",
        "    F1_Score_Test = 2*(Recall_Test * Precision_Test) / (Recall_Test + Precision_Test)\n",
        "    # AUC_Test = roc_auc_score(y_test, y_pred)\n",
        "\n",
        "    '''Train Accuracy'''\n",
        "    y_pred_train = model.predict(X_train)\n",
        "\n",
        "    Accuracy_Train = accuracy_score(y_train, y_pred_train)\n",
        "    conf_mat_Train = confusion_matrix(y_train, y_pred_train)\n",
        "    true_positive_Train = conf_mat_Train[0][0]\n",
        "    false_positive_Train = conf_mat_Train[0][1]\n",
        "    false_negative_Train = conf_mat_Train[1][0]\n",
        "    true_negative__Train = conf_mat_Train[1][1]\n",
        "    Precision_Train = true_positive_Train /(true_positive_Train + false_positive_Train)\n",
        "    Recall_Train = true_positive_Train/(true_positive_Train + false_negative_Train)\n",
        "    F1_Score_Train = 2*(Recall_Train * Precision_Train) / (Recall_Train + Precision_Train)\n",
        "    # AUC_Train = roc_auc_score(y_train, y_pred_train)\n",
        "\n",
        "    results.append({\n",
        "        'Model Name' : get_model_building_technique_name(key),\n",
        "        'Trained Model' : model,\n",
        "        'Accuracy_Test' : Accuracy_Test,\n",
        "        'Precision_Test' : Precision_Test,\n",
        "        'Recall_Test' : Recall_Test, \n",
        "        'F1_Score_Test' : F1_Score_Test, \n",
        "        # 'AUC_Test' : AUC_Test,\n",
        "        'Accuracy_Train' : Accuracy_Train,\n",
        "        'Precision_Train' : Precision_Train,\n",
        "        'Recall_Train' : Recall_Train, \n",
        "        'F1_Score_Train' : F1_Score_Train \n",
        "        # 'AUC_Train' : AUC_Train\n",
        "        })\n",
        "  except:\n",
        "    print('Error')"
      ],
      "metadata": {
        "colab": {
          "base_uri": "https://localhost:8080/"
        },
        "outputId": "1d18736b-b7de-45ff-ba7e-4292db04c813",
        "id": "Yp3ITAQSDu7a"
      },
      "execution_count": 76,
      "outputs": [
        {
          "output_type": "stream",
          "name": "stdout",
          "text": [
            "1\n",
            "2\n",
            "3\n",
            "4\n",
            "5\n",
            "6\n",
            "7\n",
            "8\n"
          ]
        }
      ]
    },
    {
      "cell_type": "code",
      "source": [
        "result_df = pd.DataFrame(results)\n",
        "result_df['difference_f1_score'] = abs(result_df['F1_Score_Test'] - result_df['F1_Score_Train'])\n",
        "# result_df_test = result_df.iloc[: , [0,2,3,4,5]]\n",
        "# result_df_train = result_df.iloc[: , [0,6,7,8,9]]\n",
        "result_df"
      ],
      "metadata": {
        "colab": {
          "base_uri": "https://localhost:8080/",
          "height": 483
        },
        "outputId": "a8ed115c-7179-4e6e-d546-dfeaa60cd222",
        "id": "B4pbLxBjDu7b"
      },
      "execution_count": 77,
      "outputs": [
        {
          "output_type": "execute_result",
          "data": {
            "text/plain": [
              "                   Model Name  \\\n",
              "0                   LinearSVC   \n",
              "1          LogisticRegression   \n",
              "2               MultinomialNB   \n",
              "3                 BernoulliNB   \n",
              "4  GradientBoostingClassifier   \n",
              "5               XGBClassifier   \n",
              "6      DecisionTreeClassifier   \n",
              "7        KNeighborsClassifier   \n",
              "\n",
              "                                       Trained Model  Accuracy_Test  \\\n",
              "0  (TfidfVectorizer(), LinearSVC(random_state=0, ...       0.971305   \n",
              "1  (CountVectorizer(), TfidfTransformer(), Logist...       0.932858   \n",
              "2  (CountVectorizer(), TfidfTransformer(), Multin...       0.839460   \n",
              "3  (CountVectorizer(), TfidfTransformer(), Bernou...       0.886159   \n",
              "4  (CountVectorizer(), TfidfTransformer(), ([Deci...       0.792386   \n",
              "5  (CountVectorizer(), TfidfTransformer(), XGBCla...       0.753938   \n",
              "6  (CountVectorizer(), TfidfTransformer(), Decisi...       0.946174   \n",
              "7  (CountVectorizer(), TfidfTransformer(), KNeigh...       0.605026   \n",
              "\n",
              "   Precision_Test  Recall_Test  F1_Score_Test  Accuracy_Train  \\\n",
              "0        0.980557     0.996050       0.988243        0.989330   \n",
              "1        0.922324     0.995070       0.957317        0.962674   \n",
              "2        0.871979     0.961123       0.914384        0.907780   \n",
              "3        0.958051     0.920078       0.938681        0.936915   \n",
              "4        0.654557     0.996982       0.790271        0.804597   \n",
              "5        0.579224     0.996606       0.732640        0.763729   \n",
              "6        0.984942     0.994471       0.989684        1.000000   \n",
              "7        0.650266     0.667577       0.658808        0.749245   \n",
              "\n",
              "   Precision_Train  Recall_Train  F1_Score_Train  difference_f1_score  \n",
              "0         0.996589      0.995965        0.996277             0.008034  \n",
              "1         0.957902      0.996266        0.976707             0.019390  \n",
              "2         0.935338      0.978988        0.956666             0.042282  \n",
              "3         0.982733      0.951118        0.966667             0.027986  \n",
              "4         0.668318      0.997536        0.800395             0.010124  \n",
              "5         0.592407      0.997712        0.743406             0.010765  \n",
              "6         1.000000      1.000000        1.000000             0.010316  \n",
              "7         0.795404      0.811792        0.803515             0.144707  "
            ],
            "text/html": [
              "\n",
              "  <div id=\"df-8f02a07d-68b5-4de2-84a6-ad537ef34d95\">\n",
              "    <div class=\"colab-df-container\">\n",
              "      <div>\n",
              "<style scoped>\n",
              "    .dataframe tbody tr th:only-of-type {\n",
              "        vertical-align: middle;\n",
              "    }\n",
              "\n",
              "    .dataframe tbody tr th {\n",
              "        vertical-align: top;\n",
              "    }\n",
              "\n",
              "    .dataframe thead th {\n",
              "        text-align: right;\n",
              "    }\n",
              "</style>\n",
              "<table border=\"1\" class=\"dataframe\">\n",
              "  <thead>\n",
              "    <tr style=\"text-align: right;\">\n",
              "      <th></th>\n",
              "      <th>Model Name</th>\n",
              "      <th>Trained Model</th>\n",
              "      <th>Accuracy_Test</th>\n",
              "      <th>Precision_Test</th>\n",
              "      <th>Recall_Test</th>\n",
              "      <th>F1_Score_Test</th>\n",
              "      <th>Accuracy_Train</th>\n",
              "      <th>Precision_Train</th>\n",
              "      <th>Recall_Train</th>\n",
              "      <th>F1_Score_Train</th>\n",
              "      <th>difference_f1_score</th>\n",
              "    </tr>\n",
              "  </thead>\n",
              "  <tbody>\n",
              "    <tr>\n",
              "      <th>0</th>\n",
              "      <td>LinearSVC</td>\n",
              "      <td>(TfidfVectorizer(), LinearSVC(random_state=0, ...</td>\n",
              "      <td>0.971305</td>\n",
              "      <td>0.980557</td>\n",
              "      <td>0.996050</td>\n",
              "      <td>0.988243</td>\n",
              "      <td>0.989330</td>\n",
              "      <td>0.996589</td>\n",
              "      <td>0.995965</td>\n",
              "      <td>0.996277</td>\n",
              "      <td>0.008034</td>\n",
              "    </tr>\n",
              "    <tr>\n",
              "      <th>1</th>\n",
              "      <td>LogisticRegression</td>\n",
              "      <td>(CountVectorizer(), TfidfTransformer(), Logist...</td>\n",
              "      <td>0.932858</td>\n",
              "      <td>0.922324</td>\n",
              "      <td>0.995070</td>\n",
              "      <td>0.957317</td>\n",
              "      <td>0.962674</td>\n",
              "      <td>0.957902</td>\n",
              "      <td>0.996266</td>\n",
              "      <td>0.976707</td>\n",
              "      <td>0.019390</td>\n",
              "    </tr>\n",
              "    <tr>\n",
              "      <th>2</th>\n",
              "      <td>MultinomialNB</td>\n",
              "      <td>(CountVectorizer(), TfidfTransformer(), Multin...</td>\n",
              "      <td>0.839460</td>\n",
              "      <td>0.871979</td>\n",
              "      <td>0.961123</td>\n",
              "      <td>0.914384</td>\n",
              "      <td>0.907780</td>\n",
              "      <td>0.935338</td>\n",
              "      <td>0.978988</td>\n",
              "      <td>0.956666</td>\n",
              "      <td>0.042282</td>\n",
              "    </tr>\n",
              "    <tr>\n",
              "      <th>3</th>\n",
              "      <td>BernoulliNB</td>\n",
              "      <td>(CountVectorizer(), TfidfTransformer(), Bernou...</td>\n",
              "      <td>0.886159</td>\n",
              "      <td>0.958051</td>\n",
              "      <td>0.920078</td>\n",
              "      <td>0.938681</td>\n",
              "      <td>0.936915</td>\n",
              "      <td>0.982733</td>\n",
              "      <td>0.951118</td>\n",
              "      <td>0.966667</td>\n",
              "      <td>0.027986</td>\n",
              "    </tr>\n",
              "    <tr>\n",
              "      <th>4</th>\n",
              "      <td>GradientBoostingClassifier</td>\n",
              "      <td>(CountVectorizer(), TfidfTransformer(), ([Deci...</td>\n",
              "      <td>0.792386</td>\n",
              "      <td>0.654557</td>\n",
              "      <td>0.996982</td>\n",
              "      <td>0.790271</td>\n",
              "      <td>0.804597</td>\n",
              "      <td>0.668318</td>\n",
              "      <td>0.997536</td>\n",
              "      <td>0.800395</td>\n",
              "      <td>0.010124</td>\n",
              "    </tr>\n",
              "    <tr>\n",
              "      <th>5</th>\n",
              "      <td>XGBClassifier</td>\n",
              "      <td>(CountVectorizer(), TfidfTransformer(), XGBCla...</td>\n",
              "      <td>0.753938</td>\n",
              "      <td>0.579224</td>\n",
              "      <td>0.996606</td>\n",
              "      <td>0.732640</td>\n",
              "      <td>0.763729</td>\n",
              "      <td>0.592407</td>\n",
              "      <td>0.997712</td>\n",
              "      <td>0.743406</td>\n",
              "      <td>0.010765</td>\n",
              "    </tr>\n",
              "    <tr>\n",
              "      <th>6</th>\n",
              "      <td>DecisionTreeClassifier</td>\n",
              "      <td>(CountVectorizer(), TfidfTransformer(), Decisi...</td>\n",
              "      <td>0.946174</td>\n",
              "      <td>0.984942</td>\n",
              "      <td>0.994471</td>\n",
              "      <td>0.989684</td>\n",
              "      <td>1.000000</td>\n",
              "      <td>1.000000</td>\n",
              "      <td>1.000000</td>\n",
              "      <td>1.000000</td>\n",
              "      <td>0.010316</td>\n",
              "    </tr>\n",
              "    <tr>\n",
              "      <th>7</th>\n",
              "      <td>KNeighborsClassifier</td>\n",
              "      <td>(CountVectorizer(), TfidfTransformer(), KNeigh...</td>\n",
              "      <td>0.605026</td>\n",
              "      <td>0.650266</td>\n",
              "      <td>0.667577</td>\n",
              "      <td>0.658808</td>\n",
              "      <td>0.749245</td>\n",
              "      <td>0.795404</td>\n",
              "      <td>0.811792</td>\n",
              "      <td>0.803515</td>\n",
              "      <td>0.144707</td>\n",
              "    </tr>\n",
              "  </tbody>\n",
              "</table>\n",
              "</div>\n",
              "      <button class=\"colab-df-convert\" onclick=\"convertToInteractive('df-8f02a07d-68b5-4de2-84a6-ad537ef34d95')\"\n",
              "              title=\"Convert this dataframe to an interactive table.\"\n",
              "              style=\"display:none;\">\n",
              "        \n",
              "  <svg xmlns=\"http://www.w3.org/2000/svg\" height=\"24px\"viewBox=\"0 0 24 24\"\n",
              "       width=\"24px\">\n",
              "    <path d=\"M0 0h24v24H0V0z\" fill=\"none\"/>\n",
              "    <path d=\"M18.56 5.44l.94 2.06.94-2.06 2.06-.94-2.06-.94-.94-2.06-.94 2.06-2.06.94zm-11 1L8.5 8.5l.94-2.06 2.06-.94-2.06-.94L8.5 2.5l-.94 2.06-2.06.94zm10 10l.94 2.06.94-2.06 2.06-.94-2.06-.94-.94-2.06-.94 2.06-2.06.94z\"/><path d=\"M17.41 7.96l-1.37-1.37c-.4-.4-.92-.59-1.43-.59-.52 0-1.04.2-1.43.59L10.3 9.45l-7.72 7.72c-.78.78-.78 2.05 0 2.83L4 21.41c.39.39.9.59 1.41.59.51 0 1.02-.2 1.41-.59l7.78-7.78 2.81-2.81c.8-.78.8-2.07 0-2.86zM5.41 20L4 18.59l7.72-7.72 1.47 1.35L5.41 20z\"/>\n",
              "  </svg>\n",
              "      </button>\n",
              "      \n",
              "  <style>\n",
              "    .colab-df-container {\n",
              "      display:flex;\n",
              "      flex-wrap:wrap;\n",
              "      gap: 12px;\n",
              "    }\n",
              "\n",
              "    .colab-df-convert {\n",
              "      background-color: #E8F0FE;\n",
              "      border: none;\n",
              "      border-radius: 50%;\n",
              "      cursor: pointer;\n",
              "      display: none;\n",
              "      fill: #1967D2;\n",
              "      height: 32px;\n",
              "      padding: 0 0 0 0;\n",
              "      width: 32px;\n",
              "    }\n",
              "\n",
              "    .colab-df-convert:hover {\n",
              "      background-color: #E2EBFA;\n",
              "      box-shadow: 0px 1px 2px rgba(60, 64, 67, 0.3), 0px 1px 3px 1px rgba(60, 64, 67, 0.15);\n",
              "      fill: #174EA6;\n",
              "    }\n",
              "\n",
              "    [theme=dark] .colab-df-convert {\n",
              "      background-color: #3B4455;\n",
              "      fill: #D2E3FC;\n",
              "    }\n",
              "\n",
              "    [theme=dark] .colab-df-convert:hover {\n",
              "      background-color: #434B5C;\n",
              "      box-shadow: 0px 1px 3px 1px rgba(0, 0, 0, 0.15);\n",
              "      filter: drop-shadow(0px 1px 2px rgba(0, 0, 0, 0.3));\n",
              "      fill: #FFFFFF;\n",
              "    }\n",
              "  </style>\n",
              "\n",
              "      <script>\n",
              "        const buttonEl =\n",
              "          document.querySelector('#df-8f02a07d-68b5-4de2-84a6-ad537ef34d95 button.colab-df-convert');\n",
              "        buttonEl.style.display =\n",
              "          google.colab.kernel.accessAllowed ? 'block' : 'none';\n",
              "\n",
              "        async function convertToInteractive(key) {\n",
              "          const element = document.querySelector('#df-8f02a07d-68b5-4de2-84a6-ad537ef34d95');\n",
              "          const dataTable =\n",
              "            await google.colab.kernel.invokeFunction('convertToInteractive',\n",
              "                                                     [key], {});\n",
              "          if (!dataTable) return;\n",
              "\n",
              "          const docLinkHtml = 'Like what you see? Visit the ' +\n",
              "            '<a target=\"_blank\" href=https://colab.research.google.com/notebooks/data_table.ipynb>data table notebook</a>'\n",
              "            + ' to learn more about interactive tables.';\n",
              "          element.innerHTML = '';\n",
              "          dataTable['output_type'] = 'display_data';\n",
              "          await google.colab.output.renderOutput(dataTable, element);\n",
              "          const docLink = document.createElement('div');\n",
              "          docLink.innerHTML = docLinkHtml;\n",
              "          element.appendChild(docLink);\n",
              "        }\n",
              "      </script>\n",
              "    </div>\n",
              "  </div>\n",
              "  "
            ]
          },
          "metadata": {},
          "execution_count": 77
        }
      ]
    },
    {
      "cell_type": "code",
      "source": [
        "Best_Model_Name = result_df[result_df['difference_f1_score'] == min(result_df['difference_f1_score'])]['Trained Model'].values[0]\n",
        "import pickle\n",
        "with open('financial_news_model_h.sav', 'wb') as best_model_pickle:\n",
        " pickle.dump(Best_Model_Name, best_model_pickle)"
      ],
      "metadata": {
        "id": "4V15RHLmDu7b"
      },
      "execution_count": 78,
      "outputs": []
    },
    {
      "cell_type": "markdown",
      "metadata": {
        "id": "R7MofTx6Du7b"
      },
      "source": [
        "### **Working with test dataset**"
      ]
    },
    {
      "cell_type": "markdown",
      "source": [
        "**Perforn the prediction on the test dataset**"
      ],
      "metadata": {
        "id": "ltaH8QwPRAB9"
      }
    },
    {
      "cell_type": "code",
      "execution_count": 79,
      "metadata": {
        "colab": {
          "base_uri": "https://localhost:8080/",
          "height": 424
        },
        "outputId": "ec3b46bd-4b3f-4262-c67a-1f825aed4222",
        "id": "8Jky855vDu7b"
      },
      "outputs": [
        {
          "output_type": "execute_result",
          "data": {
            "text/plain": [
              "             0\n",
              "0     Positive\n",
              "1     Positive\n",
              "2     Negative\n",
              "3      Neutral\n",
              "4     Negative\n",
              "...        ...\n",
              "5327   Neutral\n",
              "5328  Negative\n",
              "5329  Positive\n",
              "5330   Neutral\n",
              "5331   Neutral\n",
              "\n",
              "[5332 rows x 1 columns]"
            ],
            "text/html": [
              "\n",
              "  <div id=\"df-10440bda-e1e8-456a-9727-5a64ca287efa\">\n",
              "    <div class=\"colab-df-container\">\n",
              "      <div>\n",
              "<style scoped>\n",
              "    .dataframe tbody tr th:only-of-type {\n",
              "        vertical-align: middle;\n",
              "    }\n",
              "\n",
              "    .dataframe tbody tr th {\n",
              "        vertical-align: top;\n",
              "    }\n",
              "\n",
              "    .dataframe thead th {\n",
              "        text-align: right;\n",
              "    }\n",
              "</style>\n",
              "<table border=\"1\" class=\"dataframe\">\n",
              "  <thead>\n",
              "    <tr style=\"text-align: right;\">\n",
              "      <th></th>\n",
              "      <th>0</th>\n",
              "    </tr>\n",
              "  </thead>\n",
              "  <tbody>\n",
              "    <tr>\n",
              "      <th>0</th>\n",
              "      <td>Positive</td>\n",
              "    </tr>\n",
              "    <tr>\n",
              "      <th>1</th>\n",
              "      <td>Positive</td>\n",
              "    </tr>\n",
              "    <tr>\n",
              "      <th>2</th>\n",
              "      <td>Negative</td>\n",
              "    </tr>\n",
              "    <tr>\n",
              "      <th>3</th>\n",
              "      <td>Neutral</td>\n",
              "    </tr>\n",
              "    <tr>\n",
              "      <th>4</th>\n",
              "      <td>Negative</td>\n",
              "    </tr>\n",
              "    <tr>\n",
              "      <th>...</th>\n",
              "      <td>...</td>\n",
              "    </tr>\n",
              "    <tr>\n",
              "      <th>5327</th>\n",
              "      <td>Neutral</td>\n",
              "    </tr>\n",
              "    <tr>\n",
              "      <th>5328</th>\n",
              "      <td>Negative</td>\n",
              "    </tr>\n",
              "    <tr>\n",
              "      <th>5329</th>\n",
              "      <td>Positive</td>\n",
              "    </tr>\n",
              "    <tr>\n",
              "      <th>5330</th>\n",
              "      <td>Neutral</td>\n",
              "    </tr>\n",
              "    <tr>\n",
              "      <th>5331</th>\n",
              "      <td>Neutral</td>\n",
              "    </tr>\n",
              "  </tbody>\n",
              "</table>\n",
              "<p>5332 rows × 1 columns</p>\n",
              "</div>\n",
              "      <button class=\"colab-df-convert\" onclick=\"convertToInteractive('df-10440bda-e1e8-456a-9727-5a64ca287efa')\"\n",
              "              title=\"Convert this dataframe to an interactive table.\"\n",
              "              style=\"display:none;\">\n",
              "        \n",
              "  <svg xmlns=\"http://www.w3.org/2000/svg\" height=\"24px\"viewBox=\"0 0 24 24\"\n",
              "       width=\"24px\">\n",
              "    <path d=\"M0 0h24v24H0V0z\" fill=\"none\"/>\n",
              "    <path d=\"M18.56 5.44l.94 2.06.94-2.06 2.06-.94-2.06-.94-.94-2.06-.94 2.06-2.06.94zm-11 1L8.5 8.5l.94-2.06 2.06-.94-2.06-.94L8.5 2.5l-.94 2.06-2.06.94zm10 10l.94 2.06.94-2.06 2.06-.94-2.06-.94-.94-2.06-.94 2.06-2.06.94z\"/><path d=\"M17.41 7.96l-1.37-1.37c-.4-.4-.92-.59-1.43-.59-.52 0-1.04.2-1.43.59L10.3 9.45l-7.72 7.72c-.78.78-.78 2.05 0 2.83L4 21.41c.39.39.9.59 1.41.59.51 0 1.02-.2 1.41-.59l7.78-7.78 2.81-2.81c.8-.78.8-2.07 0-2.86zM5.41 20L4 18.59l7.72-7.72 1.47 1.35L5.41 20z\"/>\n",
              "  </svg>\n",
              "      </button>\n",
              "      \n",
              "  <style>\n",
              "    .colab-df-container {\n",
              "      display:flex;\n",
              "      flex-wrap:wrap;\n",
              "      gap: 12px;\n",
              "    }\n",
              "\n",
              "    .colab-df-convert {\n",
              "      background-color: #E8F0FE;\n",
              "      border: none;\n",
              "      border-radius: 50%;\n",
              "      cursor: pointer;\n",
              "      display: none;\n",
              "      fill: #1967D2;\n",
              "      height: 32px;\n",
              "      padding: 0 0 0 0;\n",
              "      width: 32px;\n",
              "    }\n",
              "\n",
              "    .colab-df-convert:hover {\n",
              "      background-color: #E2EBFA;\n",
              "      box-shadow: 0px 1px 2px rgba(60, 64, 67, 0.3), 0px 1px 3px 1px rgba(60, 64, 67, 0.15);\n",
              "      fill: #174EA6;\n",
              "    }\n",
              "\n",
              "    [theme=dark] .colab-df-convert {\n",
              "      background-color: #3B4455;\n",
              "      fill: #D2E3FC;\n",
              "    }\n",
              "\n",
              "    [theme=dark] .colab-df-convert:hover {\n",
              "      background-color: #434B5C;\n",
              "      box-shadow: 0px 1px 3px 1px rgba(0, 0, 0, 0.15);\n",
              "      filter: drop-shadow(0px 1px 2px rgba(0, 0, 0, 0.3));\n",
              "      fill: #FFFFFF;\n",
              "    }\n",
              "  </style>\n",
              "\n",
              "      <script>\n",
              "        const buttonEl =\n",
              "          document.querySelector('#df-10440bda-e1e8-456a-9727-5a64ca287efa button.colab-df-convert');\n",
              "        buttonEl.style.display =\n",
              "          google.colab.kernel.accessAllowed ? 'block' : 'none';\n",
              "\n",
              "        async function convertToInteractive(key) {\n",
              "          const element = document.querySelector('#df-10440bda-e1e8-456a-9727-5a64ca287efa');\n",
              "          const dataTable =\n",
              "            await google.colab.kernel.invokeFunction('convertToInteractive',\n",
              "                                                     [key], {});\n",
              "          if (!dataTable) return;\n",
              "\n",
              "          const docLinkHtml = 'Like what you see? Visit the ' +\n",
              "            '<a target=\"_blank\" href=https://colab.research.google.com/notebooks/data_table.ipynb>data table notebook</a>'\n",
              "            + ' to learn more about interactive tables.';\n",
              "          element.innerHTML = '';\n",
              "          dataTable['output_type'] = 'display_data';\n",
              "          await google.colab.output.renderOutput(dataTable, element);\n",
              "          const docLink = document.createElement('div');\n",
              "          docLink.innerHTML = docLinkHtml;\n",
              "          element.appendChild(docLink);\n",
              "        }\n",
              "      </script>\n",
              "    </div>\n",
              "  </div>\n",
              "  "
            ]
          },
          "metadata": {},
          "execution_count": 79
        }
      ],
      "source": [
        "best_model_h = pickle.load(open('financial_news_model_h.sav', 'rb'))\n",
        "result = best_model_h.predict(X_test)\n",
        "pd.DataFrame(result)"
      ]
    },
    {
      "cell_type": "markdown",
      "metadata": {
        "id": "6ffMQY_00ufo"
      },
      "source": [
        "# **Prediction**"
      ]
    },
    {
      "cell_type": "markdown",
      "metadata": {
        "id": "BrQATukn0x2u"
      },
      "source": [
        "* You can check the result on real time news headlines\n",
        "* Here i have used two fiancial news headlines and predicted its sentiment\n",
        "* You can try more "
      ]
    },
    {
      "cell_type": "code",
      "execution_count": 80,
      "metadata": {
        "colab": {
          "base_uri": "https://localhost:8080/"
        },
        "id": "uRUtaAhZ0wwU",
        "outputId": "bfa75768-5018-41cd-c3cc-928335fe4c80"
      },
      "outputs": [
        {
          "output_type": "execute_result",
          "data": {
            "text/plain": [
              "array(['Negative'], dtype=object)"
            ]
          },
          "metadata": {},
          "execution_count": 80
        }
      ],
      "source": [
        "sent1 = ['GST officers detect Rs 4,000 crore of ITC fraud in April-June']\n",
        "y_predict = best_model_h.predict(sent1)\n",
        "y_predict"
      ]
    },
    {
      "cell_type": "code",
      "execution_count": 81,
      "metadata": {
        "colab": {
          "base_uri": "https://localhost:8080/"
        },
        "id": "_YJqDGt71DGn",
        "outputId": "f5fc69c7-23fa-4d22-a028-59af90f472c4"
      },
      "outputs": [
        {
          "output_type": "execute_result",
          "data": {
            "text/plain": [
              "array(['Positive'], dtype=object)"
            ]
          },
          "metadata": {},
          "execution_count": 81
        }
      ],
      "source": [
        "sent2 = [\"Finance Ministry releases Rs 9,871 crore to 17 states as grant\"]\n",
        "y_predict = best_model_h.predict(sent2)\n",
        "y_predict"
      ]
    },
    {
      "cell_type": "markdown",
      "metadata": {
        "id": "No7lHSthFvmj"
      },
      "source": [
        "# **Conclusion**"
      ]
    },
    {
      "cell_type": "markdown",
      "metadata": {
        "id": "4FRWlgXRFywD"
      },
      "source": [
        "* We learn about NLTK and classification ML model, sentiment analysis in this assigment.\n",
        "* We conclude that using nltk it is easy to classify financial news and more we improve the traning data more we can get accurate\n"
      ]
    },
    {
      "cell_type": "markdown",
      "metadata": {
        "id": "NYwyJGT4FpQd"
      },
      "source": [
        "#Congratulation for completing the assignment.\n",
        "\n",
        "\n",
        "You have learned a lot while doing this assignment."
      ]
    }
  ],
  "metadata": {
    "colab": {
      "provenance": []
    },
    "kernelspec": {
      "display_name": "Python 3",
      "language": "python",
      "name": "python3"
    },
    "language_info": {
      "codemirror_mode": {
        "name": "ipython",
        "version": 3
      },
      "file_extension": ".py",
      "mimetype": "text/x-python",
      "name": "python",
      "nbconvert_exporter": "python",
      "pygments_lexer": "ipython3",
      "version": "3.7.6"
    }
  },
  "nbformat": 4,
  "nbformat_minor": 0
}